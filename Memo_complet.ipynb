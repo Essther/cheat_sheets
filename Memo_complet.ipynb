{
  "nbformat": 4,
  "nbformat_minor": 0,
  "metadata": {
    "colab": {
      "name": "Memo complet Esther.ipynb",
      "provenance": [],
      "collapsed_sections": [
        "jmtq_9Bbm6Jf",
        "NZ2Kjd5r-j8d",
        "imo3pDMqBzIp",
        "mztVm93pJ3uI",
        "p0zp-fFFKnZa",
        "zIrC9pSEOesp",
        "BhS6Ct_kNbqz",
        "PwvgpJyXNY4B",
        "YRLDSIydPEOW",
        "UJ4O-A0_Plb_",
        "9Pt9bvoWPWEB",
        "19hCa8TrQceX",
        "KK2SmUx_Qnr4",
        "q_3O49_oU8My",
        "WX_knzXb3SM7",
        "-U6nP-IV5WWa",
        "wA365jBI7H6L",
        "z8FINuQIGlvT",
        "sn6CkPMrMq_3",
        "MeLZ4sVkWvJu",
        "jYqNzk9vcbXy",
        "Qlpb8rKyiYyn",
        "7uYtoe22POzZ",
        "2-ebT6a7PQ0D",
        "KtilCSwNQzhs",
        "3i98yVwwSU06",
        "50kKAKZvSoDI",
        "xD8gRxJ0PzO6",
        "J2Hk5QN2FBRM",
        "Xpb9to-mafqe",
        "Ge9frM4acAkA",
        "-pdY68YYdlYa",
        "nDcLeahmd8ji",
        "8juaSPgNeqvL",
        "yq1NojcofMYG",
        "u3r44qleAKFz",
        "INzxOkZIT1ah",
        "N-BkN1jCSH6R",
        "yAZiIf29OnAv",
        "YU4QSpsDPOOv"
      ],
      "toc_visible": true,
      "authorship_tag": "ABX9TyP3g24nDUMmx/KZND8+HOC/"
    },
    "kernelspec": {
      "name": "python3",
      "display_name": "Python 3"
    }
  },
  "cells": [
    {
      "cell_type": "markdown",
      "metadata": {
        "id": "jmtq_9Bbm6Jf",
        "colab_type": "text"
      },
      "source": [
        "#1. Imports"
      ]
    },
    {
      "cell_type": "markdown",
      "metadata": {
        "id": "2046P3jrnTTh",
        "colab_type": "text"
      },
      "source": [
        "1.1 Connexion à google drive"
      ]
    },
    {
      "cell_type": "code",
      "metadata": {
        "id": "IMBAIldXmkNC",
        "colab_type": "code",
        "colab": {
          "base_uri": "https://localhost:8080/",
          "height": 122
        },
        "outputId": "16d5319c-09c5-4698-f1ef-91e3ac30de51"
      },
      "source": [
        "from google.colab import drive\n",
        "drive.mount('/content/gdrive', force_remount=True)"
      ],
      "execution_count": null,
      "outputs": [
        {
          "output_type": "stream",
          "text": [
            "Go to this URL in a browser: https://accounts.google.com/o/oauth2/auth?client_id=947318989803-6bn6qk8qdgf4n4g3pfee6491hc0brc4i.apps.googleusercontent.com&redirect_uri=urn%3aietf%3awg%3aoauth%3a2.0%3aoob&response_type=code&scope=email%20https%3a%2f%2fwww.googleapis.com%2fauth%2fdocs.test%20https%3a%2f%2fwww.googleapis.com%2fauth%2fdrive%20https%3a%2f%2fwww.googleapis.com%2fauth%2fdrive.photos.readonly%20https%3a%2f%2fwww.googleapis.com%2fauth%2fpeopleapi.readonly\n",
            "\n",
            "Enter your authorization code:\n",
            "··········\n",
            "Mounted at /content/gdrive\n"
          ],
          "name": "stdout"
        }
      ]
    },
    {
      "cell_type": "code",
      "metadata": {
        "id": "yzMBfCvX3-hh",
        "colab_type": "code",
        "colab": {}
      },
      "source": [
        "import os\n",
        "os.getcwd()                                                                     #obtenir le chemin du répertoire de travail courant (current working directory)\n",
        "os.chdir(nouveau_chemin)                                                        #modifier le chemin (entrées et sorties)\n",
        "\n",
        "import sys\n",
        "sys.path                                                                        #chemin du kernel utilisé par le notebook\n",
        "sys.path.append('/nouveau/chemin/')                                             #ajout d'un chemin\n",
        "!ls /content/gdrive/My\\ Drive/*.csv                                             #lister les csv enregistrés dans ce répertoire"
      ],
      "execution_count": null,
      "outputs": []
    },
    {
      "cell_type": "markdown",
      "metadata": {
        "id": "Y2UcmRtcnavo",
        "colab_type": "text"
      },
      "source": [
        "1.2 Imports exploration et visualisation"
      ]
    },
    {
      "cell_type": "code",
      "metadata": {
        "id": "3sjS0SXImGQn",
        "colab_type": "code",
        "colab": {
          "base_uri": "https://localhost:8080/",
          "height": 71
        },
        "outputId": "2908711b-3743-4498-affb-e0eef90e74b3"
      },
      "source": [
        "import numpy as np\n",
        "import pandas as pd\n",
        "import matplotlib.pyplot as plt\n",
        "from matplotlib import style\n",
        "style.use('ggplot')\n",
        "import seaborn as sns\n",
        "import plotly.express as px"
      ],
      "execution_count": null,
      "outputs": [
        {
          "output_type": "stream",
          "text": [
            "/usr/local/lib/python3.6/dist-packages/statsmodels/tools/_testing.py:19: FutureWarning: pandas.util.testing is deprecated. Use the functions in the public API at pandas.testing instead.\n",
            "  import pandas.util.testing as tm\n"
          ],
          "name": "stderr"
        }
      ]
    },
    {
      "cell_type": "markdown",
      "metadata": {
        "id": "qsdCHGF5nBFX",
        "colab_type": "text"
      },
      "source": [
        "1.3 Imports Machine Learning"
      ]
    },
    {
      "cell_type": "markdown",
      "metadata": {
        "id": "DVaiij_inkQK",
        "colab_type": "text"
      },
      "source": [
        "1.3.1 Regression Linéaire"
      ]
    },
    {
      "cell_type": "code",
      "metadata": {
        "id": "nSPt6rsJm-it",
        "colab_type": "code",
        "colab": {}
      },
      "source": [
        "from sklearn.model_selection import train_test_split\n",
        "from sklearn.linear_model import LinearRegression\n",
        "from sklearn.metrics import r2_score\n",
        "from sklearn.metrics import mean_squared_error  "
      ],
      "execution_count": null,
      "outputs": []
    },
    {
      "cell_type": "markdown",
      "metadata": {
        "id": "ksFvGkWNt4aY",
        "colab_type": "text"
      },
      "source": [
        "1.3.2 Regression Logistique (classification)"
      ]
    },
    {
      "cell_type": "code",
      "metadata": {
        "id": "XE-AfKgKt3gB",
        "colab_type": "code",
        "colab": {}
      },
      "source": [
        "from sklearn.preprocessing import StandardScaler\n",
        "from sklearn.model_selection import train_test_split\n",
        "from sklearn.linear_model import LogisticRegression\n",
        "from sklearn.metrics import classification_report, roc_auc_score, roc_curve, confusion_matrix"
      ],
      "execution_count": null,
      "outputs": []
    },
    {
      "cell_type": "markdown",
      "metadata": {
        "id": "sbRG8f7fwBxm",
        "colab_type": "text"
      },
      "source": [
        "1.3.3 Decision Tree Regression"
      ]
    },
    {
      "cell_type": "code",
      "metadata": {
        "id": "OXnphzp8v9mB",
        "colab_type": "code",
        "colab": {}
      },
      "source": [
        "from sklearn.tree import DecisionTreeRegressor\n",
        "from sklearn.metrics import mean_squared_error  "
      ],
      "execution_count": null,
      "outputs": []
    },
    {
      "cell_type": "markdown",
      "metadata": {
        "id": "-rhFxaFqx0U2",
        "colab_type": "text"
      },
      "source": [
        "1.3.4 Decision Tree Classification"
      ]
    },
    {
      "cell_type": "code",
      "metadata": {
        "id": "5AFU_K54x1HS",
        "colab_type": "code",
        "colab": {}
      },
      "source": [
        "from sklearn.model_selection import train_test_split\n",
        "from sklearn.tree import DecisionTreeClassifier \n",
        "from sklearn.preprocessing import StandardScaler\n",
        "from sklearn.metrics import confusion_matrix\n",
        "from sklearn.metrics import accuracy_score\n",
        "from sklearn.tree import export_graphviz\n",
        "import pydotplus\n",
        "from IPython.display import display, Image\n"
      ],
      "execution_count": null,
      "outputs": []
    },
    {
      "cell_type": "markdown",
      "metadata": {
        "id": "xhG3EKh8x1cg",
        "colab_type": "text"
      },
      "source": [
        "1.3.5 KNN Classification"
      ]
    },
    {
      "cell_type": "code",
      "metadata": {
        "id": "lWXxVWwWx4dB",
        "colab_type": "code",
        "colab": {}
      },
      "source": [
        "from sklearn.model_selection import train_test_split\n",
        "from sklearn.metrics import accuracy_score, confusion_matrix"
      ],
      "execution_count": null,
      "outputs": []
    },
    {
      "cell_type": "markdown",
      "metadata": {
        "id": "nJ9lLujV-3q_",
        "colab_type": "text"
      },
      "source": [
        "1.3.6 K-Means clustering"
      ]
    },
    {
      "cell_type": "code",
      "metadata": {
        "id": "SKgkxoWm-6ew",
        "colab_type": "code",
        "colab": {}
      },
      "source": [
        ""
      ],
      "execution_count": null,
      "outputs": []
    },
    {
      "cell_type": "markdown",
      "metadata": {
        "id": "RLm_2klc-670",
        "colab_type": "text"
      },
      "source": [
        "1.3.7 PCA (Analyse en composantes principales)"
      ]
    },
    {
      "cell_type": "code",
      "metadata": {
        "id": "I8zqIync_DV4",
        "colab_type": "code",
        "colab": {}
      },
      "source": [
        ""
      ],
      "execution_count": null,
      "outputs": []
    },
    {
      "cell_type": "markdown",
      "metadata": {
        "id": "C8Xey1Qb8OHc",
        "colab_type": "text"
      },
      "source": [
        "#2. Fonctions Python"
      ]
    },
    {
      "cell_type": "markdown",
      "metadata": {
        "id": "NZ2Kjd5r-j8d",
        "colab_type": "text"
      },
      "source": [
        "#2.1 string "
      ]
    },
    {
      "cell_type": "code",
      "metadata": {
        "id": "fVzn7-1n8STG",
        "colab_type": "code",
        "colab": {}
      },
      "source": [
        "#retourne la position d'un caractère dans une chaine de caractères\n",
        "\n",
        "def position_char(string, character):\n",
        "  return(f\"position : {string.index(character)}\")"
      ],
      "execution_count": null,
      "outputs": []
    },
    {
      "cell_type": "code",
      "metadata": {
        "id": "RVjVRkuF9swh",
        "colab_type": "code",
        "colab": {}
      },
      "source": [
        "#retourne le nombre de caractères dans une chaine de caractères, sans compter les espaces\n",
        "\n",
        "def nb_char_spaceless(string):\n",
        "  return(len(string) - string.count(\" \"))"
      ],
      "execution_count": null,
      "outputs": []
    },
    {
      "cell_type": "code",
      "metadata": {
        "id": "rurNlH88-bpC",
        "colab_type": "code",
        "colab": {}
      },
      "source": [
        "#retourne la portion de la chaine de caractère demandée\n",
        "\n",
        "def sliceString(string, beg, end):\n",
        "  return string[beg:end]"
      ],
      "execution_count": null,
      "outputs": []
    },
    {
      "cell_type": "code",
      "metadata": {
        "id": "2RLtOn4QBpzd",
        "colab_type": "code",
        "colab": {}
      },
      "source": [
        "#remplace un charactère par un autre dans une chaine de charactères\n",
        "\n",
        "def replace_char(string, char_to_replace, new_char):\n",
        "  return string.replace(char_to_replace, new_char)"
      ],
      "execution_count": null,
      "outputs": []
    },
    {
      "cell_type": "code",
      "metadata": {
        "id": "1jT5NSplL0sL",
        "colab_type": "code",
        "colab": {
          "base_uri": "https://localhost:8080/",
          "height": 68
        },
        "outputId": "51218ba5-6ed3-4a29-d1df-97eae0ac1fc5"
      },
      "source": [
        "#fonction endswith()\n",
        "#permet de vérifier si la chaine de caractère se termine avec un certain suffixe\n",
        "#retourne True ou False\n",
        "#la fonction peut avoir en paramètres optionnels deux valeurs start ou end\n",
        "#Quand le paramètre start est fourni, le test commence à cette position\n",
        "#Avec l'option end, le test s'arrête de comparer à cette position \n",
        "\n",
        "stringTest = \"Quand te reverrai-je oh doux doux soleil de printemps ?\"\n",
        "\n",
        "print(stringTest.endswith(\"?\"))\n",
        "print(stringTest.endswith(\"printemps ?\"))\n",
        "print(stringTest.startswith(\"printemps\"))"
      ],
      "execution_count": null,
      "outputs": [
        {
          "output_type": "stream",
          "text": [
            "True\n",
            "True\n",
            "False\n"
          ],
          "name": "stdout"
        }
      ]
    },
    {
      "cell_type": "markdown",
      "metadata": {
        "id": "imo3pDMqBzIp",
        "colab_type": "text"
      },
      "source": [
        "#2.2 Listes"
      ]
    },
    {
      "cell_type": "code",
      "metadata": {
        "id": "35a6QGZVB0t5",
        "colab_type": "code",
        "colab": {}
      },
      "source": [
        "#retourne uniquement les éléments d'une liste dont la position est paire, accompagnés de la position\n",
        "\n",
        "def evenPositions(liste):\n",
        "  for valeur in liste[::2]:\n",
        "    print(valeur,\"\",\"position\", liste.index(valeur))"
      ],
      "execution_count": null,
      "outputs": []
    },
    {
      "cell_type": "code",
      "metadata": {
        "id": "clImoLNDCh7v",
        "colab_type": "code",
        "colab": {}
      },
      "source": [
        "#permet de changer l'élément d'une liste (en indiquant sa position) à condition que le nouvel élément soit de même type\n",
        "\n",
        "def Fonction1(liste1, position_old, new):\n",
        "  nouvelleListe = liste1[:]\n",
        "  if type(liste1[position_old]) == type(new):\n",
        "    nouvelleListe[position_old] = new\n",
        "    return nouvelleListe\n",
        "  else:\n",
        "    return \"impossible, pas le même type d'objet\""
      ],
      "execution_count": null,
      "outputs": []
    },
    {
      "cell_type": "code",
      "metadata": {
        "id": "v4O62mTRFORi",
        "colab_type": "code",
        "colab": {}
      },
      "source": [
        "#ajoute un élément à la fin d'une liste et supprime le premier élément\n",
        "\n",
        "def EnleverEtAjouter(liste, add):\n",
        "  liste.append(add)\n",
        "  liste.pop(0)\n",
        "  return liste"
      ],
      "execution_count": null,
      "outputs": []
    },
    {
      "cell_type": "code",
      "metadata": {
        "id": "cSk7am-mFUUS",
        "colab_type": "code",
        "colab": {}
      },
      "source": [
        "#supprime une valeur d'une liste et indique le nombre de valeurs similaires restantes\n",
        "\n",
        "def how_many_after_pop(liste, remove):\n",
        "  liste.remove(remove)\n",
        "  return f\"there are still {liste.count(remove), remove}\""
      ],
      "execution_count": null,
      "outputs": []
    },
    {
      "cell_type": "code",
      "metadata": {
        "id": "4HiDHaZtIigM",
        "colab_type": "code",
        "colab": {}
      },
      "source": [
        "#insère une valeur à une position aléatoire\n",
        "\n",
        "def random_insert(liste, to_insert):\n",
        "  import random   #si enregistrement dans un module, préciser en commentaire d'importer random et ne pas l'intégrer dans la fonction\n",
        "  liste.insert(random.randint(0,len(liste)-1), to_insert)\n",
        "  return liste"
      ],
      "execution_count": null,
      "outputs": []
    },
    {
      "cell_type": "code",
      "metadata": {
        "id": "0GLtYuVnIz6i",
        "colab_type": "code",
        "colab": {}
      },
      "source": [
        "#renvoie la liste triée de la plus petite valeur à la plus grande\n",
        "\n",
        "def fonctionTri(liste):\n",
        "  liste.sort()\n",
        "  print(liste)"
      ],
      "execution_count": null,
      "outputs": []
    },
    {
      "cell_type": "code",
      "metadata": {
        "id": "X8jhF9UUQ5Ey",
        "colab_type": "code",
        "colab": {
          "base_uri": "https://localhost:8080/",
          "height": 34
        },
        "outputId": "41c80ea9-9d02-4601-b01e-4d709aff3213"
      },
      "source": [
        "# renvoie un tuple contenant un compte (démarrant à start, 0 par défaut) et les valeurs obtenues de l'itération sur iterable.\n",
        "\n",
        "seasons = ['Spring', 'Summer', 'Fall', 'Winter']\n",
        "\n",
        "list(enumerate(seasons, start=1))"
      ],
      "execution_count": null,
      "outputs": [
        {
          "output_type": "execute_result",
          "data": {
            "text/plain": [
              "[(1, 'Spring'), (2, 'Summer'), (3, 'Fall'), (4, 'Winter')]"
            ]
          },
          "metadata": {
            "tags": []
          },
          "execution_count": 34
        }
      ]
    },
    {
      "cell_type": "markdown",
      "metadata": {
        "id": "mztVm93pJ3uI",
        "colab_type": "text"
      },
      "source": [
        "#2.3 Dictionnaires"
      ]
    },
    {
      "cell_type": "code",
      "metadata": {
        "id": "H08h7lcTJ8dT",
        "colab_type": "code",
        "colab": {}
      },
      "source": [
        ""
      ],
      "execution_count": null,
      "outputs": []
    },
    {
      "cell_type": "markdown",
      "metadata": {
        "id": "p0zp-fFFKnZa",
        "colab_type": "text"
      },
      "source": [
        "#2.4 Tuples"
      ]
    },
    {
      "cell_type": "code",
      "metadata": {
        "id": "O76d8d4PKpSZ",
        "colab_type": "code",
        "colab": {}
      },
      "source": [
        "#permet de changer la valeur d'un élément d'un tuple en indiquant sa position\n",
        "\n",
        "def changement_tuple(tuple1, position, new_value):\n",
        "  liste = list(tuple1)\n",
        "  liste[position] = new_value\n",
        "  tuple(liste)\n",
        "  return liste"
      ],
      "execution_count": null,
      "outputs": []
    },
    {
      "cell_type": "code",
      "metadata": {
        "id": "3tpVRJEPOPDt",
        "colab_type": "code",
        "colab": {}
      },
      "source": [
        "#zip() retourne un itérateur de tuples, où les premiers éléments de chaque itérateur sont couplés ensemble\n",
        "#puis les deuxièmes éléments de chaque itérateurs, etc\n",
        "#la longueur du nouvel itérateur est défini par la longueur de l'itérateur le plus court.\n",
        "#zip(iterateur1, iterateur2, iterateur3...)\n",
        "\n",
        "liste1 = ['Macron', 'Trump', 'Coluche']\n",
        "liste2 = ['guignol', 'incompétent', 'président']\n",
        "\n",
        "liste3 = zip(liste1,liste2)\n",
        "print(tuple(liste3))"
      ],
      "execution_count": null,
      "outputs": []
    },
    {
      "cell_type": "markdown",
      "metadata": {
        "id": "zIrC9pSEOesp",
        "colab_type": "text"
      },
      "source": [
        "#2.5. POO"
      ]
    },
    {
      "cell_type": "code",
      "metadata": {
        "id": "XcJ9h3OCOgX7",
        "colab_type": "code",
        "colab": {}
      },
      "source": [
        "#dir()\n",
        "#retoune toutes les propriétés et méthodes de l'objet spécifié, sans les valeurs\n",
        "#y compris les propriétés par défaut\n",
        "#dir(objet)\n",
        "\n",
        "dir(random)"
      ],
      "execution_count": null,
      "outputs": []
    },
    {
      "cell_type": "markdown",
      "metadata": {
        "id": "LGxkhQS0LcQ3",
        "colab_type": "text"
      },
      "source": [
        "#3. Modules"
      ]
    },
    {
      "cell_type": "markdown",
      "metadata": {
        "id": "BhS6Ct_kNbqz",
        "colab_type": "text"
      },
      "source": [
        "#3.1 Pretty Table"
      ]
    },
    {
      "cell_type": "code",
      "metadata": {
        "id": "wU_DIVezLnWC",
        "colab_type": "code",
        "colab": {
          "base_uri": "https://localhost:8080/",
          "height": 153
        },
        "outputId": "5dc6410b-6138-419a-dd61-52ca71051507"
      },
      "source": [
        "#module prettytable\n",
        "#permet d'afficher un tableau\n",
        "\n",
        "from prettytable import PrettyTable \n",
        "\n",
        "table=PrettyTable(['Courses', 'Quantités'])\n",
        "table.add_row(['oeufs','12'])\n",
        "table.add_row(['sauce tomate','6'])\n",
        "table.add_row(['pâtes','y\\'en a plus'])\n",
        "table.add_row(['papier toilette','on en a déjà trop !'])\n",
        "print(table)"
      ],
      "execution_count": null,
      "outputs": [
        {
          "output_type": "stream",
          "text": [
            "+-----------------+---------------------+\n",
            "|     Courses     |      Quantités      |\n",
            "+-----------------+---------------------+\n",
            "|      oeufs      |          12         |\n",
            "|   sauce tomate  |          6          |\n",
            "|      pâtes      |     y'en a plus     |\n",
            "| papier toilette | on en a déjà trop ! |\n",
            "+-----------------+---------------------+\n"
          ],
          "name": "stdout"
        }
      ]
    },
    {
      "cell_type": "markdown",
      "metadata": {
        "id": "PwvgpJyXNY4B",
        "colab_type": "text"
      },
      "source": [
        "#3.2 Progress Bar"
      ]
    },
    {
      "cell_type": "code",
      "metadata": {
        "id": "CKCQELgyMFe7",
        "colab_type": "code",
        "colab": {}
      },
      "source": [
        "#Progress Bar\n",
        "#affiche une barre de progression de l'exécution de la fonction\n",
        "#installer avec pip install progressbar2\n",
        "\n",
        "#version de la progress bar pour une durée inconnue\n",
        "import time\n",
        "import progressbar\n",
        "\n",
        "bar = progressbar.ProgressBar(max_value=progressbar.UnknownLength)\n",
        "for i in range(20):\n",
        "    time.sleep(0.1)\n",
        "    bar.update(i)"
      ],
      "execution_count": null,
      "outputs": []
    },
    {
      "cell_type": "code",
      "metadata": {
        "id": "5iXGW719NvAw",
        "colab_type": "code",
        "colab": {}
      },
      "source": [
        "#avec progress\n",
        "import time\n",
        "from progress.bar import IncrementalBar\n",
        "mylist = [1,2,3,4,5,6,7,8]\n",
        "bar = IncrementalBar('Countdown', max = len(mylist))\n",
        "for item in mylist:\n",
        "    bar.next()\n",
        "    time.sleep(1)\n",
        "bar.finish()"
      ],
      "execution_count": null,
      "outputs": []
    },
    {
      "cell_type": "code",
      "metadata": {
        "id": "R3TZJBxUNzr9",
        "colab_type": "code",
        "colab": {}
      },
      "source": [
        "#avec tqdm\n",
        "import time\n",
        "from tqdm import tqdm\n",
        "mylist = [1,2,3,4,5,6,7,8]\n",
        "for i in tqdm(mylist):\n",
        "    time.sleep(1)"
      ],
      "execution_count": null,
      "outputs": []
    },
    {
      "cell_type": "code",
      "metadata": {
        "id": "tLwnXBvBN2Wq",
        "colab_type": "code",
        "colab": {}
      },
      "source": [
        "#avec Alive Progress\n",
        "from alive_progress import alive_bar\n",
        "import time\n",
        "mylist = [1,2,3,4,5,6,7,8]\n",
        "with alive_bar(len(mylist)) as bar:\n",
        "    for i in mylist:\n",
        "        bar()\n",
        "        time.sleep(1)"
      ],
      "execution_count": null,
      "outputs": []
    },
    {
      "cell_type": "code",
      "metadata": {
        "id": "30GCd0N2N8Cu",
        "colab_type": "code",
        "colab": {}
      },
      "source": [
        "#avec PySimpleGUI\n",
        "import PySimpleGUI as sg\n",
        "import time\n",
        "mylist = [1,2,3,4,5,6,7,8]\n",
        "for i, item in enumerate(mylist):\n",
        "    sg.one_line_progress_meter('This is my progress meter!', i+1, len(mylist), '-key-')\n",
        "    time.sleep(1)"
      ],
      "execution_count": null,
      "outputs": []
    },
    {
      "cell_type": "markdown",
      "metadata": {
        "id": "YRLDSIydPEOW",
        "colab_type": "text"
      },
      "source": [
        "#3.3 Get Pass"
      ]
    },
    {
      "cell_type": "code",
      "metadata": {
        "id": "XUDLX5KdPC1j",
        "colab_type": "code",
        "colab": {}
      },
      "source": [
        "#module getpass\n",
        "\n",
        "# A simple Python program to demonstrate  \n",
        "# getpass.getpass() to read password \n",
        "import getpass\n",
        "try: \n",
        "    p = getpass.getpass() \n",
        "except Exception as error: \n",
        "    print('ERROR', error) \n",
        "else: \n",
        "    print('Password entered:', p)"
      ],
      "execution_count": null,
      "outputs": []
    },
    {
      "cell_type": "code",
      "metadata": {
        "id": "HNbOT-erUITD",
        "colab_type": "code",
        "colab": {}
      },
      "source": [
        "# A simple Python program to demonstrate  \n",
        "# getpass.getpass() to read security question \n",
        "import getpass \n",
        "  \n",
        "p = getpass.getpass(prompt='Your favorite flower? ') \n",
        "  \n",
        "if p.lower() == 'rose': \n",
        "    print('Welcome..!!!') \n",
        "else: \n",
        "    print('The answer entered by you is incorrect..!!!') "
      ],
      "execution_count": null,
      "outputs": []
    },
    {
      "cell_type": "code",
      "metadata": {
        "id": "Ew6YQkUqRNhI",
        "colab_type": "code",
        "colab": {
          "base_uri": "https://localhost:8080/",
          "height": 51
        },
        "outputId": "b0b11a08-c905-496c-ae9c-0a65c9d6ac5d"
      },
      "source": [
        "from getpass import getpass\n",
        "mot_de_passe = getpass(\"Tapez un mot de passe\")\n",
        "print(mot_de_passe)"
      ],
      "execution_count": null,
      "outputs": [
        {
          "output_type": "stream",
          "text": [
            "Tapez un mot de passe··········\n",
            "hello\n"
          ],
          "name": "stdout"
        }
      ]
    },
    {
      "cell_type": "markdown",
      "metadata": {
        "id": "UJ4O-A0_Plb_",
        "colab_type": "text"
      },
      "source": [
        "#3.5 Crypt"
      ]
    },
    {
      "cell_type": "code",
      "metadata": {
        "id": "4iOUn-mCPm3Q",
        "colab_type": "code",
        "colab": {
          "base_uri": "https://localhost:8080/",
          "height": 34
        },
        "outputId": "2d0f5691-5883-4d59-c89c-ea371d42fa7e"
      },
      "source": [
        "# pour encrypter \n",
        "import crypt\n",
        "\n",
        "print(crypt.crypt(\"esthergombin\"))"
      ],
      "execution_count": null,
      "outputs": [
        {
          "output_type": "stream",
          "text": [
            "$6$gRkdpPMuOT41fVW/$xR/Ok3dToQszvfZ3a9NL6rHThJ9h/y3Y.rJGF7BA/SrjnZsToYTBHKu11jRkhrDu0gkwZcHKEwvN6Rg5jB9F41\n"
          ],
          "name": "stdout"
        }
      ]
    },
    {
      "cell_type": "code",
      "metadata": {
        "id": "A0GEvGaUQLCB",
        "colab_type": "code",
        "colab": {}
      },
      "source": [
        "#pour comparer l'entrée au mot de passe crypté\n",
        "from hmac import compare_digest as compare_hash\n",
        "\n",
        "hashed = crypt.crypt(\"esthergombin\")\n",
        "if not compare_hash(hashed, crypt.crypt(\"esthergombin\", hashed)):\n",
        "    raise ValueError(\"hashed version doesn't validate against original\")"
      ],
      "execution_count": null,
      "outputs": []
    },
    {
      "cell_type": "code",
      "metadata": {
        "id": "xeQRTk6GRTgE",
        "colab_type": "code",
        "colab": {
          "base_uri": "https://localhost:8080/",
          "height": 68
        },
        "outputId": "156c4bdf-7c09-4e36-99dc-a225f0e792bf"
      },
      "source": [
        "#permet de comparer le mot de passe entré et sa confirmation, tout en cryptant le mdp\n",
        "#code perso, à prendre avec précaution ;) \n",
        "\n",
        "from getpass import getpass\n",
        "import crypt\n",
        "from hmac import compare_digest as compare_hash\n",
        "\n",
        "mdp_crypte = crypt.crypt(input(\"Tapez un mot de passe\"))\n",
        "confirmation = getpass(\"retapez votre mot de passe\")\n",
        "if not compare_hash(hashed, confirmation):\n",
        "    print(\"mauvais mot de passe\")"
      ],
      "execution_count": null,
      "outputs": [
        {
          "output_type": "stream",
          "text": [
            "Tapez un mot de passehello\n",
            "retapez votre mot de passe··········\n",
            "mauvais mot de passe\n"
          ],
          "name": "stdout"
        }
      ]
    },
    {
      "cell_type": "markdown",
      "metadata": {
        "id": "9Pt9bvoWPWEB",
        "colab_type": "text"
      },
      "source": [
        "#3.4 Threading"
      ]
    },
    {
      "cell_type": "code",
      "metadata": {
        "id": "MMYqyTutPZOV",
        "colab_type": "code",
        "colab": {}
      },
      "source": [
        "#Threading\n",
        "#programmation parralèle\n",
        "\n",
        "from threading import Thread\n",
        "\n",
        "\"\"\"\n",
        "def f1():\n",
        "  ....\n",
        "def f2():\n",
        "  ...\n",
        "\n",
        "Thread(target=f1).start()\n",
        "Thread(target=f2).start()\n",
        "\"\"\"\n",
        "\n",
        "#à approfondir\n",
        "#faut il forcément importer sleep from time ? "
      ],
      "execution_count": null,
      "outputs": []
    },
    {
      "cell_type": "markdown",
      "metadata": {
        "id": "19hCa8TrQceX",
        "colab_type": "text"
      },
      "source": [
        "#3.6 Datetime"
      ]
    },
    {
      "cell_type": "code",
      "metadata": {
        "id": "RcmHVzvzQd1D",
        "colab_type": "code",
        "colab": {
          "base_uri": "https://localhost:8080/",
          "height": 51
        },
        "outputId": "3a315fd0-e4b2-469b-bd26-d851e210671c"
      },
      "source": [
        "#Yes ! There is always at least one datetime in a project...\n",
        "\n",
        "from datetime import date\n",
        "\n",
        "#get the date, get the date with another format\n",
        "today = date.today()\n",
        "fdate = date.today().strftime('%d/%m/%Y')\n",
        "\n",
        "print(\"Today's current date is -\", today)\n",
        "print(\"Date in dd/mm/YYYY format -\", fdate)"
      ],
      "execution_count": null,
      "outputs": [
        {
          "output_type": "stream",
          "text": [
            "Today's current date is - 2020-05-22\n",
            "Date in dd/mm/YYYY format - 22/05/2020\n"
          ],
          "name": "stdout"
        }
      ]
    },
    {
      "cell_type": "markdown",
      "metadata": {
        "id": "KK2SmUx_Qnr4",
        "colab_type": "text"
      },
      "source": [
        "#3.7 Template"
      ]
    },
    {
      "cell_type": "code",
      "metadata": {
        "id": "r5BHQuePQmPb",
        "colab_type": "code",
        "colab": {
          "base_uri": "https://localhost:8080/",
          "height": 34
        },
        "outputId": "0dc338f6-c1f1-4723-cb76-b291579a6c97"
      },
      "source": [
        "# This mod offer a better format method with fomatter\n",
        "\n",
        "from string import Template\n",
        "\n",
        "t = Template('$name is the $title of $company')\n",
        "s = t.substitute(name='Esther', title='owner', company='this notebook.')\n",
        "print(s)"
      ],
      "execution_count": null,
      "outputs": [
        {
          "output_type": "stream",
          "text": [
            "Esther is the owner of this notebook.\n"
          ],
          "name": "stdout"
        }
      ]
    },
    {
      "cell_type": "markdown",
      "metadata": {
        "id": "q_3O49_oU8My",
        "colab_type": "text"
      },
      "source": [
        "#4.Numpy"
      ]
    },
    {
      "cell_type": "code",
      "metadata": {
        "id": "WUl_MTtWVCLM",
        "colab_type": "code",
        "colab": {
          "base_uri": "https://localhost:8080/",
          "height": 187
        },
        "outputId": "57995f80-3176-4208-a355-fa60d03ddec0"
      },
      "source": [
        "#créer un array rempli de 70 valeurs aléatoires comprises entre 0 et 7 inclus\n",
        "\n",
        "np.random.randint(8,size=70).reshape(10,7)"
      ],
      "execution_count": null,
      "outputs": [
        {
          "output_type": "execute_result",
          "data": {
            "text/plain": [
              "array([[3, 6, 2, 3, 1, 7, 4],\n",
              "       [2, 1, 0, 0, 4, 3, 3],\n",
              "       [0, 7, 5, 5, 0, 6, 4],\n",
              "       [4, 6, 1, 1, 2, 0, 2],\n",
              "       [6, 3, 0, 3, 2, 3, 6],\n",
              "       [6, 0, 4, 5, 5, 6, 2],\n",
              "       [3, 5, 2, 5, 0, 1, 6],\n",
              "       [3, 5, 0, 5, 5, 1, 0],\n",
              "       [7, 6, 5, 5, 1, 6, 0],\n",
              "       [2, 5, 1, 3, 0, 6, 5]])"
            ]
          },
          "metadata": {
            "tags": []
          },
          "execution_count": 45
        }
      ]
    },
    {
      "cell_type": "code",
      "metadata": {
        "id": "CLGT_BchV_9R",
        "colab_type": "code",
        "colab": {}
      },
      "source": [
        "#fonctions statistiques sur un array \n",
        "\n",
        "stats.mode(array)  #mode\n",
        "np.median(array)  #mediane\n",
        "np.average(array) #moyenne pondérée\n",
        "np.ptp(array) #amplitude, différence entre la valeur maximale et la valeur minimale\n",
        "np.std(array) #ecart type, mesure de la dispersion d'une distribution\n",
        "np.var(array) #variance, mesure de la dispersion d'une distribution\n",
        "np.percentile(array, 25) #1er quartile\n",
        "np.percentile(array, 50) #2e quartile == médiane\n",
        "np.percentile(array, 75) #3e quartile\n",
        "corrcoef(array,rowvar = 0) #coefficient de corrélation"
      ],
      "execution_count": null,
      "outputs": []
    },
    {
      "cell_type": "code",
      "metadata": {
        "id": "qZF2SudUWwKW",
        "colab_type": "code",
        "colab": {}
      },
      "source": [
        "#fonction qui resoud une équation de second degré de type ax2 + bx + c\n",
        "\n",
        "def equationSecondDegree(coeff):\n",
        "  return np.roots(coeff)\n",
        "\n",
        "equationSecondDegree([-2,3,4])"
      ],
      "execution_count": null,
      "outputs": []
    },
    {
      "cell_type": "markdown",
      "metadata": {
        "id": "8AVz3t_HXGDr",
        "colab_type": "text"
      },
      "source": [
        "#5.Pandas"
      ]
    },
    {
      "cell_type": "markdown",
      "metadata": {
        "id": "WX_knzXb3SM7",
        "colab_type": "text"
      },
      "source": [
        "#5.1Imports / exports"
      ]
    },
    {
      "cell_type": "code",
      "metadata": {
        "id": "2iQOktKi3RXq",
        "colab_type": "code",
        "colab": {}
      },
      "source": [
        "import pandas as pd\n",
        "\n",
        "#ouvrir un document dans pandas\n",
        "\n",
        "df = pd.read_csv(url, sep=',', encoding='cp1252')                               #csv\n",
        "df = pd.read_excel(url, sheet_name=0)                                           #excel - changer le paramètre sheet_name pour afficher une autre feuille\n",
        "\n",
        "#liste non exhaustive"
      ],
      "execution_count": null,
      "outputs": []
    },
    {
      "cell_type": "code",
      "metadata": {
        "id": "9JvdkT0U4rrP",
        "colab_type": "code",
        "colab": {}
      },
      "source": [
        "#exporter au format csv\n",
        "\n",
        "df.to_csv('filename.csv')                                                       #csv\n",
        "!cp filename.csv 'drive/My Drive/'                                              #ajout pour enregistrer dans drive depuis google colab"
      ],
      "execution_count": null,
      "outputs": []
    },
    {
      "cell_type": "markdown",
      "metadata": {
        "id": "-U6nP-IV5WWa",
        "colab_type": "text"
      },
      "source": [
        "#5.2 Inspection des données"
      ]
    },
    {
      "cell_type": "code",
      "metadata": {
        "id": "HLtEEoyF5YXR",
        "colab_type": "code",
        "colab": {}
      },
      "source": [
        "df.head(5)                                                                      #affiche les 5 (par défaut) premières lignes\n",
        "df.tail(5)                                                                      #affiche les 5 (par défaut) dernières lignes\n",
        "df.shape                                                                        #nb de lignes et de colonnes\n",
        "df.info()                                                                       #index, colones, valeurs non nulles, dtype\n",
        "df.describe()                                                                   #résumé des statistiques de colonnes numériques\n",
        "df.describe(include='all')                                                      #inclure les valeurs non numériques\n",
        "df.describe(include='all').T                                                    #transposer la table\n",
        "df.columns                                                                      #liste des colonnes\n",
        "df['col'].unique()                                                              #valeurs uniques de la colonne\n",
        "len(df)                                                                         #nombres de lignes du dataframe\n",
        "df.dtypes                                                                       #type de chacune des colonnes\n",
        "pd.isnull(df).sum()                                                             #somme des valeurs nulles pour chaque colonne\n",
        "pd['col'].value_counts(dropna=False)                                            #voir les valeurs uniques et leur nombre\n",
        "df.apply(df['col'].value_counts)                                                #valeurs uniques et leur nombre pour toutes les colonnes\n",
        "df.index                                                                        #début, fin et pas de l'index"
      ],
      "execution_count": null,
      "outputs": []
    },
    {
      "cell_type": "code",
      "metadata": {
        "id": "2KHCE5g8d0kM",
        "colab_type": "code",
        "colab": {}
      },
      "source": [
        "#taux de remplissage des colonnes du dataframe\n",
        "\n",
        "def fill_ratio(df):\n",
        "  return round(df.notna().mean()*100)"
      ],
      "execution_count": null,
      "outputs": []
    },
    {
      "cell_type": "markdown",
      "metadata": {
        "id": "wA365jBI7H6L",
        "colab_type": "text"
      },
      "source": [
        "#5.3 Selection et indexing"
      ]
    },
    {
      "cell_type": "code",
      "metadata": {
        "id": "ro5A-jxZ7KW9",
        "colab_type": "code",
        "colab": {}
      },
      "source": [
        "df['col']                                                                       #retourne la colonne comme une série\n",
        "df[['col1', 'col2']]                                                            #retourne un nouveau df avec les colonnes sélectionnées\n",
        "\n",
        "\"\"\"\n",
        "sélectionner la position par le nom : .loc[] - inclusif\n",
        "sélectionner la position par l'index : .iloc[] - exclusif (-1)\n",
        "\"\"\"\n",
        "\n",
        "df['col'].iloc[n]                                                               #sélection d'une valeur par l'index de la ligne (n)\n",
        "df['col'].loc[n]                                                                #idem\n",
        "\n",
        "df.loc[m:n, 'col']                                                              #sélection des lignes de m à n pour la colonne 'col'\n",
        "df.iloc[m:n, x]                                                                 #sélection des lignes de m à n pour la colonne n° x\n",
        "df.iloc[m:n,:]                                                                  #sélection des lignes de m à n pour toutes les colonnes\n",
        "df.loc[:,'col']                                                                 #sélection de toutes les lignes pour la colonne 'col'\n",
        "\n",
        "df.set_index('col', inplace=True)                                               #transforme la colonne 'col' en index\n",
        "\n",
        "df.loc[['row1':'row2'],:]                                                       #sélectionner plusieurs lignes par leur nom et toutes les colonnes\n",
        "df.loc[:,'col1':'col2']                                                         #sélectionner plusieurs colonnes par leur nom et toutes les lignes (en incluant la col2 --> exclue avec iloc)\n",
        "\n",
        "df.sort_index()                                                                 #remettre l'index dans le bon ordre\n",
        "\n",
        "df['col'][index]                                                                #sélectionner une valeur d'une ligne\n",
        "df2 = df[['col1', 'col2', 'col10']]                                             #permet de recréer un df avec une sélection de colonnes du df d'origine\n",
        "\n",
        "df.select_dtypes(include=['type'])                                              #sélection des colonnes selon leur type d'objet\n",
        "\n",
        "for index, value in df.iterrows():                                              #permet d'itérer sur un df\n",
        "  print(index, value)\n",
        "\n",
        "for index, value in df['col'].iteritems():                                      #permet d'itérer sur une série\n",
        "  print(index, value)"
      ],
      "execution_count": null,
      "outputs": []
    },
    {
      "cell_type": "markdown",
      "metadata": {
        "id": "z8FINuQIGlvT",
        "colab_type": "text"
      },
      "source": [
        "#5.4 Nettoyage"
      ]
    },
    {
      "cell_type": "markdown",
      "metadata": {
        "id": "duI0IpIUGsNl",
        "colab_type": "text"
      },
      "source": [
        "Renommer"
      ]
    },
    {
      "cell_type": "code",
      "metadata": {
        "id": "IOqs3Lr9Gnn7",
        "colab_type": "code",
        "colab": {}
      },
      "source": [
        "df.columns = ['a', 'b', 'c']                                                    #renommer toutes les colonnes en passant une liste\n",
        "df.rename(columns = lambda x: x+1)                                              #renommer toutes les colonnes avec une fonction\n",
        "\n",
        "df.rename(columns={'old':'new'})                                                #renommer les colonnes de façon sélective\n",
        "\n",
        "df.set_index('col1')                                                            #changer l'index\n",
        "df.rename(index = lambda x: x+1)                                                #renommer toutes les lignes (index) avec une fonction"
      ],
      "execution_count": null,
      "outputs": []
    },
    {
      "cell_type": "markdown",
      "metadata": {
        "id": "6fyVLESfHcv0",
        "colab_type": "text"
      },
      "source": [
        "Supprimer"
      ]
    },
    {
      "cell_type": "code",
      "metadata": {
        "id": "cd2XUFPRHd3B",
        "colab_type": "code",
        "colab": {}
      },
      "source": [
        "df.drop_duplicates(subset=None, keep=None, inplace=True)                        #supprimer les lignes en doublons; subset = selection de colonnes, keep='first'(garde le 1er doublon), 'last'(garde le dernier) ou 'False'(supprime tous les doublons)\n",
        "\n",
        "to_drop = df[df['col'].condition].index                                         #supprimer plusieurs lignes grâce à leurs index\n",
        "df.drop(to_drop, inplace=True)\n",
        "\n",
        "df.drop(['ligne'], axis=0, inplace=True)                                        #supprime la ou les lignes\n",
        "\n",
        "df.drop(['col'], axis=1, inplace=True)                                          #supprime la ou les colonnes\n",
        "df.drop(columns=['col'], inplace=True)                                          #supprime la ou les colonnes"
      ],
      "execution_count": null,
      "outputs": []
    },
    {
      "cell_type": "markdown",
      "metadata": {
        "id": "t3FAG6lcJBKu",
        "colab_type": "text"
      },
      "source": [
        "Gestion des NaN"
      ]
    },
    {
      "cell_type": "code",
      "metadata": {
        "id": "LzMqNUVTJCu4",
        "colab_type": "code",
        "colab": {}
      },
      "source": [
        "pd.isnull()                                                                     #retourne un booléen sur la condition \"la valeur est elle nulle ?\"\n",
        "pd.notnull()                                                                    #retourne un booléen sur la condition \"la valeur est elle renseignée ?\"\n",
        "\n",
        "df.dropna(inplace=True)                                                         #supprimer les lignes qui contiennent des NaN\n",
        "df.dropna(axis=1, inplace=True)                                                 #supprimer les colonnes qui contiennent des NaN\n",
        "df.dropna(axis=0, thresh='n', inplace=True)                                     #supprimer toutes les lignes qui ont moins de 'n' valeurs renseignées\n",
        "\n",
        "df.fillna('x', inplace=True)                                                    #remplacer toutes les valeurs nulles par 'x'\n",
        "df['col'].fillna(df['col'].mean(), inplace=True)                                #remplacer toutes les valeurs nulles de la colonne par la moyenne (possible avec toutes les fonctions statistiques)\n",
        "df['col'].fillna(df.col.mean(), inplace=True)                                   #idem\n",
        "\n",
        "df.fillna(method='bfill')                                                       #on remplace les NaN en utilisant la valeur suivante\n",
        "df.fillna(method='ffill')                                                       #on remplace les NaN en utilisant la valeur précédente"
      ],
      "execution_count": null,
      "outputs": []
    },
    {
      "cell_type": "markdown",
      "metadata": {
        "id": "ye1WorDRLocS",
        "colab_type": "text"
      },
      "source": [
        "Autres méthodes de nettoyage"
      ]
    },
    {
      "cell_type": "code",
      "metadata": {
        "id": "pfyVMJZhLqnz",
        "colab_type": "code",
        "colab": {}
      },
      "source": [
        "df['col'].astype('type')                                                        #convertir le type des données de la série\n",
        "\n",
        "df['col'].replace('old', 'new')                                                 #remplacer toutes les valeurs \"old\" de la série par la valeur \"new\"\n",
        "df['col'].replace(['old1', 'old2'], ['new1', 'new2'])                           #remplacer plusieurs valeurs d'un coup\n",
        "\n",
        "df.loc[df['col'] == 'old', 'col1'] = 'new'                                      #remplacer les valeurs en fonction d'une condition\n",
        "#condition ---> [df['col'] == 'old']\n",
        "#'col1' --> colonne dans laquelle se trouve la valeur à remplacer (peut être la même que dans la condition ou une autre)"
      ],
      "execution_count": null,
      "outputs": []
    },
    {
      "cell_type": "code",
      "metadata": {
        "id": "2NvxhKXPd8UI",
        "colab_type": "code",
        "colab": {}
      },
      "source": [
        "#splitter une colonne qui contient des tuples en plusieurs colonnes\n",
        "#sauf si le tuple contient un dictionnaire --> itérer sur le dictionnaire\n",
        "rec[['col1', 'col2']] = pd.DataFrame(rec['tuple'].tolist(), index=rec.index) "
      ],
      "execution_count": null,
      "outputs": []
    },
    {
      "cell_type": "markdown",
      "metadata": {
        "id": "sn6CkPMrMq_3",
        "colab_type": "text"
      },
      "source": [
        "#5.5 Filtrer, trier, grouper"
      ]
    },
    {
      "cell_type": "markdown",
      "metadata": {
        "id": "TzoMpTrvPmIb",
        "colab_type": "text"
      },
      "source": [
        "Afficher selon une condition"
      ]
    },
    {
      "cell_type": "code",
      "metadata": {
        "id": "U7zyViqkMteN",
        "colab_type": "code",
        "colab": {}
      },
      "source": [
        "df[df['col'] > n]                                                               #affiche les lignes pour lesquelles la valeur de 'col' est supérieure à n\n",
        "df[(df['col'] > n) & (df['col'] < m)]                                           #affiche les lignes pour lesquelles m > col > n"
      ],
      "execution_count": null,
      "outputs": []
    },
    {
      "cell_type": "markdown",
      "metadata": {
        "id": "lmb8xNndPpP1",
        "colab_type": "text"
      },
      "source": [
        "Trier les valeurs"
      ]
    },
    {
      "cell_type": "code",
      "metadata": {
        "id": "M-Wi4u-wPrE8",
        "colab_type": "code",
        "colab": {}
      },
      "source": [
        "df.sort_values('col1')                                                          #trie les valeurs par ordre ascendant de la colonne col1\n",
        "df.sort_values('col2', ascending=False)                                         #trie les valeurs par ordre descendant de la colonne col2\n",
        "df.sort_values(['col1', 'col2'], ascending=[True, False])                       ##trie les valeurs par ordre ascendant de la colonne col1 puis par ordre descendant de la colonne col2"
      ],
      "execution_count": null,
      "outputs": []
    },
    {
      "cell_type": "markdown",
      "metadata": {
        "id": "bsUraMvhPuqt",
        "colab_type": "text"
      },
      "source": [
        "Filtrer"
      ]
    },
    {
      "cell_type": "code",
      "metadata": {
        "id": "8qyt1Kh3PxOn",
        "colab_type": "code",
        "colab": {}
      },
      "source": [
        "df['col'].str.contains('valeur')                                                #filtre sur les valeurs d'une colonne et retourne un booléen\n",
        "df['col'].str.contains('valeur').sum()                                          #filtre sur les valeurs d'une colonne et retourne la somme des valeurs qui sont True"
      ],
      "execution_count": null,
      "outputs": []
    },
    {
      "cell_type": "markdown",
      "metadata": {
        "id": "Ic6MBa6ZPwwD",
        "colab_type": "text"
      },
      "source": [
        "Grouper"
      ]
    },
    {
      "cell_type": "code",
      "metadata": {
        "id": "ytXjQCBoP1s1",
        "colab_type": "code",
        "colab": {}
      },
      "source": [
        "df.groupby('col')                                                               #grouper sur une seule colonne\n",
        "df.groupby(['col1', 'col2'])                                                    #grouper sur plusieurs colonnes\n",
        "df.groupby('col1')['col2'].mean()                                               #fonction statistique (ici moyenne) sur les valeurs de la col2 regroupées en fonction de col1\n",
        "df.groupby('col1').agg(np.mean)                                                 #moyenne pour chaque colonne en fonction de chaque valeur unique de col1"
      ],
      "execution_count": null,
      "outputs": []
    },
    {
      "cell_type": "markdown",
      "metadata": {
        "id": "lExbJEgJP9Jr",
        "colab_type": "text"
      },
      "source": [
        "Pivot Table"
      ]
    },
    {
      "cell_type": "code",
      "metadata": {
        "id": "WZ9BdfsMV5XQ",
        "colab_type": "code",
        "colab": {}
      },
      "source": [
        "df.pivot_table(index='col1', values=['col2', 'col3'], columns=['col'], aggfunc=mean)             #tableau croisé dynamique, fonction aggrégative -> moyenne par défaut, champs columns facultatif"
      ],
      "execution_count": null,
      "outputs": []
    },
    {
      "cell_type": "markdown",
      "metadata": {
        "id": "UL6SbuBNWUf0",
        "colab_type": "text"
      },
      "source": [
        "Fonctions"
      ]
    },
    {
      "cell_type": "code",
      "metadata": {
        "id": "TNBV_tkMWVkL",
        "colab_type": "code",
        "colab": {}
      },
      "source": [
        "df.apply(fonction)                                                              #appliquer une fonction sur chaque colonne\n",
        "df.apply(fonction, axis=1)                                                      #appliquer une fonction sur chaque ligne"
      ],
      "execution_count": null,
      "outputs": []
    },
    {
      "cell_type": "markdown",
      "metadata": {
        "id": "MeLZ4sVkWvJu",
        "colab_type": "text"
      },
      "source": [
        "#5.6 Fusionner, joindre, créer"
      ]
    },
    {
      "cell_type": "markdown",
      "metadata": {
        "id": "K6R7yOjUW1V4",
        "colab_type": "text"
      },
      "source": [
        "Création de dataframe"
      ]
    },
    {
      "cell_type": "code",
      "metadata": {
        "id": "bYbIZ_KJW2zg",
        "colab_type": "code",
        "colab": {}
      },
      "source": [
        "df = pd.DataFrame(index=[liste], columns=[liste])                               #créer un df à partir de listes\n",
        "\n",
        "df = pd.DataFrame.from_records(dictionnaire)                                    #créer un df à partir d'un dictionnaire (dict de listes ou liste de dictionnaires)\n",
        "df = pd.DataFrame({dictionnaire})                                               #idem\n",
        "\n",
        "df = (pd.DataFrame = Array                                                      #créer un df à partir d'un array numpy\n",
        "      index = rows\n",
        "      columns = columns)\n",
        "\n",
        "df = pd.DataFrame(np.random.rand(20,5))                                         #créer un df à partir de valeurs aléatoires (ici 20 lignes et 5 colonnes de float aléatoires)"
      ],
      "execution_count": null,
      "outputs": []
    },
    {
      "cell_type": "markdown",
      "metadata": {
        "id": "biVn8WKNYJSC",
        "colab_type": "text"
      },
      "source": [
        "Ajouter et supprimer des lignes et des colonnes"
      ]
    },
    {
      "cell_type": "code",
      "metadata": {
        "id": "tRHv75bOYLO5",
        "colab_type": "code",
        "colab": {}
      },
      "source": [
        "df['nvlleCol'] = ['val1', 'val2', 'val3']                                       #ajout d'une colonne\n",
        "df.insert(loc, column, value)                                                   #ajout d'une colonne à un index spécifique -> loc = n°index, column=label de la colonne, value=série ou array contenant les valeurs à insérer)\n",
        "df[['col1', 'col2']] = df1                                                      #ajout de plusieurs colonnes depuis un autre df (df1) -> les index doivent etre les mêmes\n",
        "\n",
        "df = df.append(dict)                                                            #ajout de lignes à partir d'un dictionnaire\n",
        "df1.append(df2)                                                                 #ajout de lignes à partir d'un autre df\n",
        "\n",
        "df.drop(m:n, axis=0, inplace=True)                                              #supprimer des lignes\n",
        "\n",
        "df.drop(columns=['col1', 'col2'], inplace=True)                                 #supprimer des colonnes\n",
        "df.drop(['col1', 'col2'], axis=1, inplace=True)                                 #supprimer des colonnes"
      ],
      "execution_count": null,
      "outputs": []
    },
    {
      "cell_type": "markdown",
      "metadata": {
        "id": "BpTUj6QGbEdV",
        "colab_type": "text"
      },
      "source": [
        "Concaténer, fusionner, joindre\n",
        "\n",
        "*   Concat : permet de combiner des dataframes sur des lignes ou des colonnes\n",
        "*   Merge : permet de combiner des données sur des colonnes communes ou sur l'index\n",
        "*   Join : permet de combiner des données sur une colonne 'key' ou sur l'index"
      ]
    },
    {
      "cell_type": "code",
      "metadata": {
        "id": "uYlqhZmxWzGt",
        "colab_type": "code",
        "colab": {}
      },
      "source": [
        "pd.concat([df1, df2], axis=1)                                                   #ajouter les colonnes de df2 à la fin de df1, les lignes doivent être identiques\n",
        "pd.concat([df1, df2], axis=0).reset_index(drop=True)                            #ajouter les lignes de df2 à df1 et réinitialiser l'index\n",
        "\n",
        "#join et merge à compléter"
      ],
      "execution_count": null,
      "outputs": []
    },
    {
      "cell_type": "markdown",
      "metadata": {
        "id": "jYqNzk9vcbXy",
        "colab_type": "text"
      },
      "source": [
        "#5.7 Statistiques"
      ]
    },
    {
      "cell_type": "code",
      "metadata": {
        "id": "RALhv2SgcctE",
        "colab_type": "code",
        "colab": {}
      },
      "source": [
        "df.describe().T                                                                 #résumé statistique (et transposé) des colonnes numériques du df\n",
        "df.describe(include='all')                                                      #comprend les valeurs non numériques\n",
        "\n",
        "df.mean()                                                                       #moyenne des colonnes du df\n",
        "df.median()                                                                     #médiane des colonnes du df\n",
        "df.std()                                                                        #écart type de chaque colonne du df\n",
        "\n",
        "df.corr()                                                                       #corrélation entre les colonnes du df\n",
        "df.count()                                                                      #nombre de valeurs non nulles pour chaque colonne\n",
        "\n",
        "df.min()                                                                        #valeur minimale de chaque colonne\n",
        "df.max()                                                                        #valeur maximale de chaque colonne\n"
      ],
      "execution_count": null,
      "outputs": []
    },
    {
      "cell_type": "code",
      "metadata": {
        "id": "MxmAfRx3XHYz",
        "colab_type": "code",
        "colab": {
          "base_uri": "https://localhost:8080/",
          "height": 103
        },
        "outputId": "65883789-32d2-45e0-b6c7-74345de4f715"
      },
      "source": [
        "df.corr().style.background_gradient(cmap='coolwarm').set_precision(2)           #heatmap de corrélation en couleur"
      ],
      "execution_count": null,
      "outputs": [
        {
          "output_type": "execute_result",
          "data": {
            "text/html": [
              "<style  type=\"text/css\" >\n",
              "    #T_e043e3d4_9c4f_11ea_b514_0242ac1c0002row0_col0 {\n",
              "            background-color:  #b40426;\n",
              "            color:  #f1f1f1;\n",
              "        }    #T_e043e3d4_9c4f_11ea_b514_0242ac1c0002row0_col1 {\n",
              "            background-color:  #3b4cc0;\n",
              "            color:  #f1f1f1;\n",
              "        }    #T_e043e3d4_9c4f_11ea_b514_0242ac1c0002row0_col2 {\n",
              "            background-color:  #3b4cc0;\n",
              "            color:  #f1f1f1;\n",
              "        }    #T_e043e3d4_9c4f_11ea_b514_0242ac1c0002row1_col0 {\n",
              "            background-color:  #3b4cc0;\n",
              "            color:  #f1f1f1;\n",
              "        }    #T_e043e3d4_9c4f_11ea_b514_0242ac1c0002row1_col1 {\n",
              "            background-color:  #b40426;\n",
              "            color:  #f1f1f1;\n",
              "        }    #T_e043e3d4_9c4f_11ea_b514_0242ac1c0002row1_col2 {\n",
              "            background-color:  #5d7ce6;\n",
              "            color:  #000000;\n",
              "        }    #T_e043e3d4_9c4f_11ea_b514_0242ac1c0002row2_col0 {\n",
              "            background-color:  #5673e0;\n",
              "            color:  #000000;\n",
              "        }    #T_e043e3d4_9c4f_11ea_b514_0242ac1c0002row2_col1 {\n",
              "            background-color:  #799cf8;\n",
              "            color:  #000000;\n",
              "        }    #T_e043e3d4_9c4f_11ea_b514_0242ac1c0002row2_col2 {\n",
              "            background-color:  #b40426;\n",
              "            color:  #f1f1f1;\n",
              "        }</style><table id=\"T_e043e3d4_9c4f_11ea_b514_0242ac1c0002\" ><thead>    <tr>        <th class=\"blank level0\" ></th>        <th class=\"col_heading level0 col0\" >home_score</th>        <th class=\"col_heading level0 col1\" >away_score</th>        <th class=\"col_heading level0 col2\" >neutral</th>    </tr></thead><tbody>\n",
              "                <tr>\n",
              "                        <th id=\"T_e043e3d4_9c4f_11ea_b514_0242ac1c0002level0_row0\" class=\"row_heading level0 row0\" >home_score</th>\n",
              "                        <td id=\"T_e043e3d4_9c4f_11ea_b514_0242ac1c0002row0_col0\" class=\"data row0 col0\" >1.00</td>\n",
              "                        <td id=\"T_e043e3d4_9c4f_11ea_b514_0242ac1c0002row0_col1\" class=\"data row0 col1\" >-0.14</td>\n",
              "                        <td id=\"T_e043e3d4_9c4f_11ea_b514_0242ac1c0002row0_col2\" class=\"data row0 col2\" >-0.03</td>\n",
              "            </tr>\n",
              "            <tr>\n",
              "                        <th id=\"T_e043e3d4_9c4f_11ea_b514_0242ac1c0002level0_row1\" class=\"row_heading level0 row1\" >away_score</th>\n",
              "                        <td id=\"T_e043e3d4_9c4f_11ea_b514_0242ac1c0002row1_col0\" class=\"data row1 col0\" >-0.14</td>\n",
              "                        <td id=\"T_e043e3d4_9c4f_11ea_b514_0242ac1c0002row1_col1\" class=\"data row1 col1\" >1.00</td>\n",
              "                        <td id=\"T_e043e3d4_9c4f_11ea_b514_0242ac1c0002row1_col2\" class=\"data row1 col2\" >0.08</td>\n",
              "            </tr>\n",
              "            <tr>\n",
              "                        <th id=\"T_e043e3d4_9c4f_11ea_b514_0242ac1c0002level0_row2\" class=\"row_heading level0 row2\" >neutral</th>\n",
              "                        <td id=\"T_e043e3d4_9c4f_11ea_b514_0242ac1c0002row2_col0\" class=\"data row2 col0\" >-0.03</td>\n",
              "                        <td id=\"T_e043e3d4_9c4f_11ea_b514_0242ac1c0002row2_col1\" class=\"data row2 col1\" >0.08</td>\n",
              "                        <td id=\"T_e043e3d4_9c4f_11ea_b514_0242ac1c0002row2_col2\" class=\"data row2 col2\" >1.00</td>\n",
              "            </tr>\n",
              "    </tbody></table>"
            ],
            "text/plain": [
              "<pandas.io.formats.style.Styler at 0x7f01f95d9cc0>"
            ]
          },
          "metadata": {
            "tags": []
          },
          "execution_count": 53
        }
      ]
    },
    {
      "cell_type": "markdown",
      "metadata": {
        "id": "vUu86ptOePUs",
        "colab_type": "text"
      },
      "source": [
        "#5.8 Autres codes utiles"
      ]
    },
    {
      "cell_type": "markdown",
      "metadata": {
        "id": "vlvVd0D-eYzi",
        "colab_type": "text"
      },
      "source": [
        "Application d'une fonction sur une série"
      ]
    },
    {
      "cell_type": "code",
      "metadata": {
        "id": "AxUvy9LqeOwq",
        "colab_type": "code",
        "colab": {}
      },
      "source": [
        "def function(par1, par2):\n",
        "  if par1 < par2:\n",
        "    newcol = 'label1'\n",
        "  else:\n",
        "    newcol = 'label2'\n",
        "  return newcol\n",
        "\n",
        "df['newcol'] = df['newcol'].apply(lambda x: function(x, par2))"
      ],
      "execution_count": null,
      "outputs": []
    },
    {
      "cell_type": "markdown",
      "metadata": {
        "id": "pV6n0az_3Qno",
        "colab_type": "text"
      },
      "source": [
        "\n",
        "\n",
        "---\n",
        "\n"
      ]
    },
    {
      "cell_type": "markdown",
      "metadata": {
        "id": "MXA316rzJbdL",
        "colab_type": "text"
      },
      "source": [
        "#6. Dataviz"
      ]
    },
    {
      "cell_type": "code",
      "metadata": {
        "id": "Edw24U8Gpod1",
        "colab_type": "code",
        "colab": {
          "base_uri": "https://localhost:8080/",
          "height": 145
        },
        "outputId": "b81ca17f-816e-4e39-df2f-70d554984833"
      },
      "source": [
        "df = pd.read_csv('/content/gdrive/My Drive/Wild Code School/Jeux de données/titanic.csv')\n",
        "df.head(2)"
      ],
      "execution_count": null,
      "outputs": [
        {
          "output_type": "execute_result",
          "data": {
            "text/html": [
              "<div>\n",
              "<style scoped>\n",
              "    .dataframe tbody tr th:only-of-type {\n",
              "        vertical-align: middle;\n",
              "    }\n",
              "\n",
              "    .dataframe tbody tr th {\n",
              "        vertical-align: top;\n",
              "    }\n",
              "\n",
              "    .dataframe thead th {\n",
              "        text-align: right;\n",
              "    }\n",
              "</style>\n",
              "<table border=\"1\" class=\"dataframe\">\n",
              "  <thead>\n",
              "    <tr style=\"text-align: right;\">\n",
              "      <th></th>\n",
              "      <th>Survived</th>\n",
              "      <th>Pclass</th>\n",
              "      <th>Name</th>\n",
              "      <th>Sex</th>\n",
              "      <th>Age</th>\n",
              "      <th>Siblings/Spouses Aboard</th>\n",
              "      <th>Parents/Children Aboard</th>\n",
              "      <th>Fare</th>\n",
              "    </tr>\n",
              "  </thead>\n",
              "  <tbody>\n",
              "    <tr>\n",
              "      <th>0</th>\n",
              "      <td>0</td>\n",
              "      <td>3</td>\n",
              "      <td>Mr. Owen Harris Braund</td>\n",
              "      <td>male</td>\n",
              "      <td>22.0</td>\n",
              "      <td>1</td>\n",
              "      <td>0</td>\n",
              "      <td>7.2500</td>\n",
              "    </tr>\n",
              "    <tr>\n",
              "      <th>1</th>\n",
              "      <td>1</td>\n",
              "      <td>1</td>\n",
              "      <td>Mrs. John Bradley (Florence Briggs Thayer) Cum...</td>\n",
              "      <td>female</td>\n",
              "      <td>38.0</td>\n",
              "      <td>1</td>\n",
              "      <td>0</td>\n",
              "      <td>71.2833</td>\n",
              "    </tr>\n",
              "  </tbody>\n",
              "</table>\n",
              "</div>"
            ],
            "text/plain": [
              "   Survived  Pclass  ... Parents/Children Aboard     Fare\n",
              "0         0       3  ...                       0   7.2500\n",
              "1         1       1  ...                       0  71.2833\n",
              "\n",
              "[2 rows x 8 columns]"
            ]
          },
          "metadata": {
            "tags": []
          },
          "execution_count": 5
        }
      ]
    },
    {
      "cell_type": "markdown",
      "metadata": {
        "id": "hCKYpZyPtbTI",
        "colab_type": "text"
      },
      "source": [
        "#6.1 Distribution"
      ]
    },
    {
      "cell_type": "markdown",
      "metadata": {
        "id": "Qlpb8rKyiYyn",
        "colab_type": "text"
      },
      "source": [
        "#Density plot (kdeplot) - courbe de distribution"
      ]
    },
    {
      "cell_type": "code",
      "metadata": {
        "id": "kPGrbbiTiczJ",
        "colab_type": "code",
        "colab": {
          "base_uri": "https://localhost:8080/",
          "height": 282
        },
        "outputId": "aed68f13-9f19-4569-e3b6-5030474abd58"
      },
      "source": [
        "\"\"\"\n",
        "Variable : 1 seule variable numérique (continue)\n",
        "Similaire à l'histogramme, décrit la distribution de la série\n",
        "Lecture : \n",
        "  x = variable continue indépendante\n",
        "  y = concentration des points\n",
        "  plot = distribution\n",
        "Attentions : \n",
        "  jouer avec la largeur des classes (argument 'bw=') pour (de)lisser la courbe\n",
        "  ne pas représenter plus de 5 variables sur le même axe\n",
        "  éviter la colorisation\n",
        "\"\"\"\n",
        "\n",
        "sns.kdeplot(df['Age'], shade=True, color=\"skyblue\")"
      ],
      "execution_count": null,
      "outputs": [
        {
          "output_type": "execute_result",
          "data": {
            "text/plain": [
              "<matplotlib.axes._subplots.AxesSubplot at 0x7fbe5108a908>"
            ]
          },
          "metadata": {
            "tags": []
          },
          "execution_count": 13
        },
        {
          "output_type": "display_data",
          "data": {
            "image/png": "[encoded data removed]",
            "text/plain": [
              "<Figure size 432x288 with 1 Axes>"
            ]
          },
          "metadata": {
            "tags": []
          }
        }
      ]
    },
    {
      "cell_type": "code",
      "metadata": {
        "id": "ENTJzl_ijwzR",
        "colab_type": "code",
        "colab": {
          "base_uri": "https://localhost:8080/",
          "height": 284
        },
        "outputId": "4ebe59d7-3e88-4bd2-9339-3c7656fa367f"
      },
      "source": [
        "sns.kdeplot(df['Age'], color=\"skyblue\", bw=.9)      #réduction de la largeur des classes"
      ],
      "execution_count": null,
      "outputs": [
        {
          "output_type": "execute_result",
          "data": {
            "text/plain": [
              "<matplotlib.axes._subplots.AxesSubplot at 0x7fbe50f1c470>"
            ]
          },
          "metadata": {
            "tags": []
          },
          "execution_count": 16
        },
        {
          "output_type": "display_data",
          "data": {
            "image/png": "[encoded data removed]",
            "text/plain": [
              "<Figure size 432x288 with 1 Axes>"
            ]
          },
          "metadata": {
            "tags": []
          }
        }
      ]
    },
    {
      "cell_type": "code",
      "metadata": {
        "id": "-dm7gbzjj4QN",
        "colab_type": "code",
        "colab": {
          "base_uri": "https://localhost:8080/",
          "height": 269
        },
        "outputId": "1224152d-8419-4fda-91a3-4d7768db00e7"
      },
      "source": [
        "#plotter plusieurs variables\n",
        "\n",
        "p1=sns.kdeplot(df['Age'], shade=True, color=\"r\")\n",
        "p1=sns.kdeplot(df['Fare'], shade=True, color=\"b\")"
      ],
      "execution_count": null,
      "outputs": [
        {
          "output_type": "display_data",
          "data": {
            "image/png": "[encoded data removed]",
            "text/plain": [
              "<Figure size 432x288 with 1 Axes>"
            ]
          },
          "metadata": {
            "tags": []
          }
        }
      ]
    },
    {
      "cell_type": "markdown",
      "metadata": {
        "id": "9bWzJ5Y_kWna",
        "colab_type": "text"
      },
      "source": [
        "#Histogramme"
      ]
    },
    {
      "cell_type": "code",
      "metadata": {
        "id": "6-BBT5bekaua",
        "colab_type": "code",
        "colab": {
          "base_uri": "https://localhost:8080/",
          "height": 299
        },
        "outputId": "2fbe450e-4959-4483-e0f0-d7946de325fa"
      },
      "source": [
        "\"\"\"\n",
        "Variable : 1 seule variable numérique (continue)\n",
        "Objectif : Similaire à la courbe de distribution, décrit la distribution de la série\n",
        "Préparation : découper la variable en plusieurs classes\n",
        "Lecture : \n",
        "  largeur des barres : largeur de la classe\n",
        "  hauteur des barres : nombre d'observations par classe\n",
        "  x = classes de la variable indépendante\n",
        "  y = nb d'observations\n",
        "Attentions : \n",
        "  largeur des classes -> donne des résultats différents\n",
        "  ne pas représenter plus de 5 variables sur le même axe\n",
        "  éviter la colorisation (n'apporte aucune information)\n",
        "\"\"\"\n",
        "\n",
        "sns.distplot( df[\"Age\"] )\n"
      ],
      "execution_count": null,
      "outputs": [
        {
          "output_type": "execute_result",
          "data": {
            "text/plain": [
              "<matplotlib.axes._subplots.AxesSubplot at 0x7fbe50e5f9b0>"
            ]
          },
          "metadata": {
            "tags": []
          },
          "execution_count": 17
        },
        {
          "output_type": "display_data",
          "data": {
            "image/png": "[encoded data removed]",
            "text/plain": [
              "<Figure size 432x288 with 1 Axes>"
            ]
          },
          "metadata": {
            "tags": []
          }
        }
      ]
    },
    {
      "cell_type": "code",
      "metadata": {
        "id": "2mLO8gFrvKap",
        "colab_type": "code",
        "colab": {
          "base_uri": "https://localhost:8080/",
          "height": 299
        },
        "outputId": "d21e634d-0480-4b62-a4e8-b1e09143bdeb"
      },
      "source": [
        "sns.distplot( df[\"Age\"], bins=10)             #changement de la largeur des classes"
      ],
      "execution_count": null,
      "outputs": [
        {
          "output_type": "execute_result",
          "data": {
            "text/plain": [
              "<matplotlib.axes._subplots.AxesSubplot at 0x7fbe50e08400>"
            ]
          },
          "metadata": {
            "tags": []
          },
          "execution_count": 18
        },
        {
          "output_type": "display_data",
          "data": {
            "image/png": "[encoded data removed]",
            "text/plain": [
              "<Figure size 432x288 with 1 Axes>"
            ]
          },
          "metadata": {
            "tags": []
          }
        }
      ]
    },
    {
      "cell_type": "code",
      "metadata": {
        "id": "Bsmllv83ver8",
        "colab_type": "code",
        "colab": {
          "base_uri": "https://localhost:8080/",
          "height": 299
        },
        "outputId": "40d2a577-10a1-4cc5-fb98-7a218a0c8053"
      },
      "source": [
        "# Hist only\n",
        "sns.distplot( a=df[\"Age\"], hist=True, kde=False, rug=False )"
      ],
      "execution_count": null,
      "outputs": [
        {
          "output_type": "execute_result",
          "data": {
            "text/plain": [
              "<matplotlib.axes._subplots.AxesSubplot at 0x7fbe50d45c18>"
            ]
          },
          "metadata": {
            "tags": []
          },
          "execution_count": 19
        },
        {
          "output_type": "display_data",
          "data": {
            "image/png": "[encoded data removed]",
            "text/plain": [
              "<Figure size 432x288 with 1 Axes>"
            ]
          },
          "metadata": {
            "tags": []
          }
        }
      ]
    },
    {
      "cell_type": "code",
      "metadata": {
        "id": "U9wiTOAivxOm",
        "colab_type": "code",
        "colab": {
          "base_uri": "https://localhost:8080/",
          "height": 299
        },
        "outputId": "fe2bf5c3-cc1e-409c-9a7c-ed0f249eb506"
      },
      "source": [
        "# Hist + Rug + kernel density\n",
        "sns.distplot( a=df[\"Age\"], hist=True, kde=True, rug=True )"
      ],
      "execution_count": null,
      "outputs": [
        {
          "output_type": "execute_result",
          "data": {
            "text/plain": [
              "<matplotlib.axes._subplots.AxesSubplot at 0x7fbe50c3edd8>"
            ]
          },
          "metadata": {
            "tags": []
          },
          "execution_count": 21
        },
        {
          "output_type": "display_data",
          "data": {
            "image/png": "[encoded data removed]",
            "text/plain": [
              "<Figure size 432x288 with 1 Axes>"
            ]
          },
          "metadata": {
            "tags": []
          }
        }
      ]
    },
    {
      "cell_type": "code",
      "metadata": {
        "id": "d1PZ2hrf1Ad7",
        "colab_type": "code",
        "colab": {
          "base_uri": "https://localhost:8080/",
          "height": 299
        },
        "outputId": "f6980d83-6bca-4a6d-ce96-0bc2fc957af1"
      },
      "source": [
        "# To change parameters of rug\n",
        "sns.distplot( a=df[\"Age\"], rug=True,\n",
        "             rug_kws={\"color\": \"r\", \"alpha\":0.3, \"linewidth\": 2, \"height\":0.2 })"
      ],
      "execution_count": null,
      "outputs": [
        {
          "output_type": "execute_result",
          "data": {
            "text/plain": [
              "<matplotlib.axes._subplots.AxesSubplot at 0x7fbe50a5fd68>"
            ]
          },
          "metadata": {
            "tags": []
          },
          "execution_count": 23
        },
        {
          "output_type": "display_data",
          "data": {
            "image/png": "[encoded data removed]",
            "text/plain": [
              "<Figure size 432x288 with 1 Axes>"
            ]
          },
          "metadata": {
            "tags": []
          }
        }
      ]
    },
    {
      "cell_type": "code",
      "metadata": {
        "id": "CyE97APlvsY6",
        "colab_type": "code",
        "colab": {
          "base_uri": "https://localhost:8080/",
          "height": 299
        },
        "outputId": "01816f68-a6c6-4db9-8a33-80716cf9d5ef"
      },
      "source": [
        "# To change parameters of density distribution\n",
        "sns.distplot( a=df[\"Age\"], kde=True,\n",
        "             kde_kws={\"color\": \"g\", \"alpha\":0.3, \"linewidth\": 5, \"shade\":True })"
      ],
      "execution_count": null,
      "outputs": [
        {
          "output_type": "execute_result",
          "data": {
            "text/plain": [
              "<matplotlib.axes._subplots.AxesSubplot at 0x7fbe50a18a90>"
            ]
          },
          "metadata": {
            "tags": []
          },
          "execution_count": 25
        },
        {
          "output_type": "display_data",
          "data": {
            "image/png": "[encoded data removed]",
            "text/plain": [
              "<Figure size 432x288 with 1 Axes>"
            ]
          },
          "metadata": {
            "tags": []
          }
        }
      ]
    },
    {
      "cell_type": "markdown",
      "metadata": {
        "id": "z5lJz6vmG6qr",
        "colab_type": "text"
      },
      "source": [
        "#Matplotlib"
      ]
    },
    {
      "cell_type": "code",
      "metadata": {
        "id": "_kZv2aBpJfMP",
        "colab_type": "code",
        "colab": {}
      },
      "source": [
        "#taille du graph\n",
        "fig= plt.figure(figsize=(12,8))"
      ],
      "execution_count": null,
      "outputs": []
    },
    {
      "cell_type": "code",
      "metadata": {
        "id": "BwlCChFGG-0v",
        "colab_type": "code",
        "colab": {}
      },
      "source": [
        ""
      ],
      "execution_count": null,
      "outputs": []
    },
    {
      "cell_type": "markdown",
      "metadata": {
        "id": "X8iQYHIlG_UA",
        "colab_type": "text"
      },
      "source": [
        "#Seaborn"
      ]
    },
    {
      "cell_type": "code",
      "metadata": {
        "id": "FpW4NPOFHC9j",
        "colab_type": "code",
        "colab": {}
      },
      "source": [
        ""
      ],
      "execution_count": null,
      "outputs": []
    },
    {
      "cell_type": "markdown",
      "metadata": {
        "id": "ahuwb6G6HDUj",
        "colab_type": "text"
      },
      "source": [
        "#6.3 Plotly"
      ]
    },
    {
      "cell_type": "markdown",
      "metadata": {
        "id": "7uYtoe22POzZ",
        "colab_type": "text"
      },
      "source": [
        "#Scatter plot"
      ]
    },
    {
      "cell_type": "code",
      "metadata": {
        "id": "IxqeRBNjHFLY",
        "colab_type": "code",
        "colab": {}
      },
      "source": [
        "import plotly.express as px\n",
        "\n",
        "fig = px.scatter(data_frame = df, x=\"col1\", y=\"col2\", color='col3', color_discrete_map={\n",
        "                \"col3_value1\": \"darkred\",\n",
        "                \"col3_value2\": \"red\",\n",
        "                \"not col3_value3\": \"yellow\"},\n",
        "             title=\"titre\", \n",
        "             template = \"plotly_dark\"))\n",
        "fig.show()"
      ],
      "execution_count": null,
      "outputs": []
    },
    {
      "cell_type": "markdown",
      "metadata": {
        "id": "2-ebT6a7PQ0D",
        "colab_type": "text"
      },
      "source": [
        "#Scatter matrix (pair plot)"
      ]
    },
    {
      "cell_type": "code",
      "metadata": {
        "id": "Wj1KRVP3POE7",
        "colab_type": "code",
        "colab": {}
      },
      "source": [
        "#fonctionne aussi avec des variables qualitatives\n",
        "fig = px.scatter_matrix(df, dimensions=['col1', 'col2', 'col3', 'col4'])\n",
        "fig.show()"
      ],
      "execution_count": null,
      "outputs": []
    },
    {
      "cell_type": "markdown",
      "metadata": {
        "id": "KtilCSwNQzhs",
        "colab_type": "text"
      },
      "source": [
        "#Bubble chart"
      ]
    },
    {
      "cell_type": "code",
      "metadata": {
        "id": "Z62alqxWQ13k",
        "colab_type": "code",
        "colab": {}
      },
      "source": [
        "fig = px.scatter(df, x='col1', y='col2', size='col3', title='Titre', template='plotly_dark')\n",
        "fig.show()"
      ],
      "execution_count": null,
      "outputs": []
    },
    {
      "cell_type": "markdown",
      "metadata": {
        "id": "3i98yVwwSU06",
        "colab_type": "text"
      },
      "source": [
        "#Multi-charts"
      ]
    },
    {
      "cell_type": "code",
      "metadata": {
        "id": "JOuPJvzbSW5i",
        "colab_type": "code",
        "colab": {}
      },
      "source": [
        "fig = px.scatter(df, x='col1', y='col2', facet_col='col3', hover_data=[\"col4\", 'col5'])\n",
        "fig.show()"
      ],
      "execution_count": null,
      "outputs": []
    },
    {
      "cell_type": "markdown",
      "metadata": {
        "id": "50kKAKZvSoDI",
        "colab_type": "text"
      },
      "source": [
        "#Violin plot"
      ]
    },
    {
      "cell_type": "code",
      "metadata": {
        "id": "AwDUpSFQSnnD",
        "colab_type": "code",
        "colab": {}
      },
      "source": [
        "fig = px.violin(df, y=\"col1\",  box=True, points=\"all\", color='col2', color_discrete_map={\n",
        "                \"col3_value1\": \"darkred\",\n",
        "                \"col3_value2\": \"red\",\n",
        "                \"not col3_value3\": \"yellow\"},\n",
        "             template = 'plotly_dark')\n",
        "fig.show()"
      ],
      "execution_count": null,
      "outputs": []
    },
    {
      "cell_type": "markdown",
      "metadata": {
        "id": "BCsmevp2XeUE",
        "colab_type": "text"
      },
      "source": [
        "#3D charts"
      ]
    },
    {
      "cell_type": "markdown",
      "metadata": {
        "id": "xD8gRxJ0PzO6",
        "colab_type": "text"
      },
      "source": [
        "#Paramètres"
      ]
    },
    {
      "cell_type": "code",
      "metadata": {
        "id": "mWa7ccJ9KnFF",
        "colab_type": "code",
        "colab": {}
      },
      "source": [
        "#palettes de couleurs plotly express\n",
        "\n",
        "fig = px.colors.qualitative.swatches()\n",
        "fig.show()"
      ],
      "execution_count": null,
      "outputs": []
    },
    {
      "cell_type": "markdown",
      "metadata": {
        "id": "IOw4I3mOabcm",
        "colab_type": "text"
      },
      "source": [
        "#7. Machine Learning"
      ]
    },
    {
      "cell_type": "markdown",
      "metadata": {
        "id": "J2Hk5QN2FBRM",
        "colab_type": "text"
      },
      "source": [
        "#7.0 Standardisation"
      ]
    },
    {
      "cell_type": "code",
      "metadata": {
        "id": "vUrRrD5FJsxN",
        "colab_type": "code",
        "colab": {}
      },
      "source": [
        "# Import\n",
        "from sklearn.preprocessing import StandardScaler\n",
        "\n",
        "X = df[['', '']]\n",
        "y = df['']\n",
        "\n",
        "X_train, X_test, y_train, y_test = train_test_split(X, y)\n",
        "\n",
        "# Create and fit a scaler model\n",
        "scaler = StandardScaler().fit(X_train)\n",
        "\n",
        "# Your scaler model can now transform your data\n",
        "X_train_scaled = scaler.transform(X_train)\n",
        "X_test_scaled = scaler.transform(X_test)\n",
        "\n",
        "# Your scaler model can inverse transform if needed\n",
        "X_train_new = scaler.inverse_transform(X_train_scaled)\n",
        "X_train_new == X_train\n",
        "\n",
        "\"\"\"\n",
        "Decision tree is insensitive to Standardization.\n",
        "Logistic regression and KNN have better result after Standardization.\n",
        "\"\"\""
      ],
      "execution_count": null,
      "outputs": []
    },
    {
      "cell_type": "markdown",
      "metadata": {
        "id": "Xpb9to-mafqe",
        "colab_type": "text"
      },
      "source": [
        "#7.1 KNN Classification (classification)"
      ]
    },
    {
      "cell_type": "markdown",
      "metadata": {
        "id": "5iTCNrz7anl0",
        "colab_type": "text"
      },
      "source": [
        "Classification = valeur discrète -> utiliser 'Hamming Distance'"
      ]
    },
    {
      "cell_type": "code",
      "metadata": {
        "id": "efeFTkGuamhZ",
        "colab_type": "code",
        "colab": {}
      },
      "source": [
        "#imports\n",
        "\n",
        "import numpy as np\n",
        "import pandas as pd\n",
        "\n",
        "from matplotlib import pyplot as plt\n",
        "import seaborn as sns\n",
        "sns.set()\n",
        "\n",
        "from sklearn.model_selection import train_test_split\n",
        "from sklearn.preprocessing import StandardScaler\n",
        "from sklearn.neighbors import KNeighborsClassifier\n",
        "\n",
        "from sklearn.metrics import confusion_matrix\n",
        "from sklearn.metrics import f1_score\n",
        "from sklearn.metrics import accuracy_score"
      ],
      "execution_count": null,
      "outputs": []
    },
    {
      "cell_type": "code",
      "metadata": {
        "id": "T2uuKfWaat21",
        "colab_type": "code",
        "colab": {}
      },
      "source": [
        "#Encoder des catégories de données\n",
        "y = pd.get_dummies(y, drop_first=True)"
      ],
      "execution_count": null,
      "outputs": []
    },
    {
      "cell_type": "code",
      "metadata": {
        "id": "IoVY9Ju4bAbn",
        "colab_type": "code",
        "colab": {}
      },
      "source": [
        "#diviser le dataset\n",
        "X = [['col1', 'col2', 'col3']]\n",
        "y= ['col4']\n",
        "X_train, X_test, y_train, y_test = train_test_split(X, y, random_state=1, test_size=0.25)\n",
        "\n",
        "#mettre les données à l'échelle \n",
        "std_scl = StandardScaler()\n",
        "X_train = std_scl.fit_transform(X_train)\n",
        "X_test = std_scl.fit_transform(X_test)\n",
        "\n",
        "#créer et entrainer le modèle \n",
        "KNNclass_model = KNeighborsClassifier(n_neighbors=5, p=2, metric='euclidean')  \n",
        "KNNclass_model.fit(X_train, y_train)\n",
        "\n",
        "#prédire\n",
        "y_pred = KNNclass_model.predict(X_test)"
      ],
      "execution_count": null,
      "outputs": []
    },
    {
      "cell_type": "code",
      "metadata": {
        "id": "Z6-ND5k2bq_J",
        "colab_type": "code",
        "colab": {}
      },
      "source": [
        "#trouver le nb de voisins le plus adéquat entre 2 et 15: \n",
        "\n",
        "for loop in range (2, 15, 1):\n",
        "  KNNclass_model = KNeighborsClassifier(n_neighbors=loop)\n",
        "  KNNclass_model.fit(X_train, y_train)\n",
        "  y_pred = KNNclass_model.predict(X_test)\n",
        "\n",
        "  accuracy_knn = accuracy_score(y_test, y_pred)\n",
        "  print(f'n_neighbors {loop} a un score de : {accuracy_knn}')"
      ],
      "execution_count": null,
      "outputs": []
    },
    {
      "cell_type": "code",
      "metadata": {
        "id": "mc4eZEPfcmCH",
        "colab_type": "code",
        "colab": {}
      },
      "source": [
        "#évaluer\n",
        "\n",
        "confusion_matrix(y_test, y_pred)      #matrice de confusion\n",
        "\n",
        "#pour une matrice de confusion plus jolie et lisible, la représenter grâce à une heatmap\n",
        "\n",
        "sns.heatmap(conf_matrix, annot=True)\n",
        "plt.xlabel('prédictions')\n",
        "plt.ylabel('observations')\n",
        "plt.title('matrice de confusion')\n",
        "\n",
        "\n",
        "f1_score(y_test, y_pred)              #F1 score (prend en compte les faux positifs)\n",
        "accuracy_score(y_test, y_pred)        #Accuracy (ne prend en compte que ce qui est juste ou faux, sera toujours plus élevé que le f1)\n",
        "\n",
        "print(classification_report(y_test, y_pred))\n",
        "conf_matrix = confusion_matrix(y_test, y_pred)\n",
        "\n",
        "#ratio de faux positifs : fpr\n",
        "#ration de vrai positifs : tpr\n",
        "#predict_proba = % de chance d'appartenir à telle ou telle classe\n",
        "scores = KNNclass_model.predict_proba(X_test)[:,1]  # [:,1] on précise qu'on veut le résultat pour la classe 1 par exemple\n",
        "fpr, tpr, threshold = roc_curve(y_test, scores)  #paramètres à fournir\n",
        "roc_auc = roc_auc_score(y_test, scores)\n",
        "print(\"AUC de ma ROC Curve est de :\", roc_auc)\n",
        "#plus le roc_auc est proche de 1, plus le modèle est performant\n",
        "\n",
        "plt.plot(fpr, trp)\n",
        "plt.title('ROC Curve')\n",
        "plt.xlabel('Ratio de Faux Positifs')\n",
        "plt.ylabel('Ratio de Vrais Positifs')\n",
        "\n",
        "#lecture de la roc curve = la partie en dessous de la courbe est la AUC\n",
        "#divisée par l'ensemble\n",
        "#une roc curve parfaite formerait un angle droit à 1.O sur l'ordonnée et 0 sur l sur l'abcisse\n",
        "#aire = 1 -> pas d'erreurs"
      ],
      "execution_count": null,
      "outputs": []
    },
    {
      "cell_type": "markdown",
      "metadata": {
        "id": "Ge9frM4acAkA",
        "colab_type": "text"
      },
      "source": [
        "#7.2 KNN Régression (régression)"
      ]
    },
    {
      "cell_type": "markdown",
      "metadata": {
        "id": "256U8Jv1dwvY",
        "colab_type": "text"
      },
      "source": [
        "Régression = valeur continue --> utliser Euclidean Distance ou Manhattan Distance"
      ]
    },
    {
      "cell_type": "code",
      "metadata": {
        "id": "CRB4sv0LcCV7",
        "colab_type": "code",
        "colab": {}
      },
      "source": [
        "from sklearn.neighbors import KNeighborsRegressor\n",
        "from sklearn.model_selection import train_test_split\n",
        "from sklearn.metrics import r2_score\n",
        "from sklearn.metrics import classification_report, roc_auc_score, roc_curve, confusion_matrix\n",
        "\n",
        "\n",
        "#preparation de X et y par suppression de colonnes depuis le dataset\n",
        "train, test = train_test_split(df, test_size = 0.3)\n",
        "\n",
        "x_train = train.drop('targer', axis=1)\n",
        "y_train = train['target']\n",
        "\n",
        "x_test = test.drop('targer', axis = 1)\n",
        "y_test = test['target']\n",
        "\n",
        "#OU par assignation de colonnes\n",
        "\n",
        "X = df[['']]\n",
        "y =['']\n",
        "\n",
        "X_train, X_test, y_train, y_test = train_test_split(X, y, random_state = 42, test_size = 0.30)"
      ],
      "execution_count": null,
      "outputs": []
    },
    {
      "cell_type": "code",
      "metadata": {
        "id": "QaGlHnFhcJbR",
        "colab_type": "code",
        "colab": {}
      },
      "source": [
        "#trouver la meilleure valeur pour n_neighbors grâce à une boucle\n",
        "\n",
        "max_r2 = 0\n",
        "x_max = 1\n",
        "for x in range(2,30):\n",
        "  KNR = KNeighborsRegressor(n_neighbors=x, metric='manhattan')\n",
        "  KNR.fit(X_train, y_train)\n",
        "  y_pred = KNR.predict(X_test)\n",
        "  if r2_score(y_test, y_pred) > max_r2:\n",
        "    max_r2 = r2_score(y_test, y_pred)\n",
        "    x_max = x\n",
        "print(x_max, max_r2)"
      ],
      "execution_count": null,
      "outputs": []
    },
    {
      "cell_type": "code",
      "metadata": {
        "id": "91SVG3hrcLlp",
        "colab_type": "code",
        "colab": {}
      },
      "source": [
        "#entrainement et prédictions \n",
        "\n",
        "KNR = KNeighborsRegressor(n_neighbors=x_max, metric='manhattan')   \n",
        "KNR.fit(X_train, y_train)\n",
        "y_pred = KNR.predict(X_test)\n",
        "\n",
        "#evaluation\n",
        "\n",
        "r2_score(y_test, y_pred)   \n",
        "MSE = mean_squared_error(y_test, y_pred)   #clacul du MSE sur le y_test et les prédictions\n",
        "RMSE = np.sqrt(MSE)  #racine carré du MSE\n",
        "RMSE   #interprétation du résultat ---> écart entre points de prédictions et observations"
      ],
      "execution_count": null,
      "outputs": []
    },
    {
      "cell_type": "markdown",
      "metadata": {
        "id": "-pdY68YYdlYa",
        "colab_type": "text"
      },
      "source": [
        "#7.3 Régression linéaire (régression)"
      ]
    },
    {
      "cell_type": "code",
      "metadata": {
        "id": "3ODj0m0i_UGV",
        "colab_type": "code",
        "colab": {}
      },
      "source": [
        "from sklearn.model_selection import train_test_split\n",
        "from sklearn.linear_model import LinearRegression\n",
        "from sklearn.metrics import r2_score\n",
        "from sklearn.metrics import mean_squared_error  "
      ],
      "execution_count": null,
      "outputs": []
    },
    {
      "cell_type": "code",
      "metadata": {
        "id": "cRZhG8vJdqja",
        "colab_type": "code",
        "colab": {}
      },
      "source": [
        "#définition des colonnes à prendre en compte\n",
        "X = df[['']]                                 #variable(s) indépendante(s)\n",
        "y = df['']                                   #variable dépendante, à prédire\n",
        "\n",
        "X_train, X_test, y_train, y_test = train_test_split(X, y, random_state=42, train_size = 0.75)  #division du dataset\n",
        "\n",
        "modelLinReg = LinearRegression().fit(X_train, y_train)   #entrainement du modèle\n",
        "\n",
        "modelLinReg.predict([[x]])                   #prédiction pour une valeur 'x'  \n",
        "\n",
        "df['predictions'] = modelLinReg.predict(X_test)   #stocker les prédictions dans une nouvelle colonne du dataframe \n",
        "y_pred = modelLinReg.predict(X_test)              #stocker dans une variable\n",
        "\n",
        "\n",
        "#visualiser les prédictions et les comparer au dataset initial : \n",
        "sns.scatterplot(X_train, y_train, data=df, color='aqua')  \n",
        "sns.scatterplot(X_test, y_pred, data=df, color='firebrick')  "
      ],
      "execution_count": null,
      "outputs": []
    },
    {
      "cell_type": "code",
      "metadata": {
        "id": "sZlbIxlYd6YF",
        "colab_type": "code",
        "colab": {}
      },
      "source": [
        "#visualiser une regression bivariée sur un scatterplot 3D\n",
        "import plotly.express as px\n",
        "fig = px.scatter_3d(df, x=\"\", y=\"\", z=\"\")\n",
        "fig.show()"
      ],
      "execution_count": null,
      "outputs": []
    },
    {
      "cell_type": "code",
      "metadata": {
        "id": "wF9hN5Zed641",
        "colab_type": "code",
        "colab": {}
      },
      "source": [
        "#Evaluation du modèle \n",
        "\n",
        "modelLinReg.score(y_test, y_pred)       #par défaut R2 score ; 0 à 1, avec 1 pour meilleur résultat\n",
        "\n",
        "MSE = mean_squared_error(y_test, y_pred)   #clacul du MSE sur le y_test et les prédictions\n",
        "RMSE = np.sqrt(MSE)  #racine carré du MSE\n",
        "RMSE   #interprétation du résultat ---> écart entre points de prédictions et observations"
      ],
      "execution_count": null,
      "outputs": []
    },
    {
      "cell_type": "markdown",
      "metadata": {
        "id": "nDcLeahmd8ji",
        "colab_type": "text"
      },
      "source": [
        "#7.4 Régression logistique (classification)"
      ]
    },
    {
      "cell_type": "markdown",
      "metadata": {
        "id": "R4vsM3SneEcx",
        "colab_type": "text"
      },
      "source": [
        "La regression logistique est un algorithme de classification, contrairement à la régression linaire qui est un algorithme de régression : l'objectif est de trouver un nombre (variable continue). Dans le cas de la régression logistique, l'outcome sera une variable catégorielle (variable discrète). La classification peut être binaire ou multi-classes."
      ]
    },
    {
      "cell_type": "markdown",
      "metadata": {
        "id": "gNG8FzveqmJC",
        "colab_type": "text"
      },
      "source": [
        "Régression logistique > KNN Classifier"
      ]
    },
    {
      "cell_type": "code",
      "metadata": {
        "id": "oonwoMe5_XdK",
        "colab_type": "code",
        "colab": {}
      },
      "source": [
        "from sklearn.preprocessing import StandardScaler\n",
        "from sklearn.model_selection import train_test_split\n",
        "from sklearn.linear_model import LogisticRegression\n",
        "from sklearn.metrics import classification_report, roc_auc_score, roc_curve, confusion_matrix"
      ],
      "execution_count": null,
      "outputs": []
    },
    {
      "cell_type": "code",
      "metadata": {
        "id": "-g_c8PjVeAGO",
        "colab_type": "code",
        "colab": {}
      },
      "source": [
        "X = df[['col1']]\n",
        "y = df[['col2']]\n",
        "X_train, X_test, y_train, y_test = train_test_split(X, y, random_state=0, test_size=0.2)\n",
        "\n",
        "sc_X = StandardScaler()   #mise à l'échelle des données\n",
        "X_train = sc_X.fit_transform(X_train)\n",
        "X_test = sc_X.fit_transform(X_test)\n",
        "\n",
        "\n",
        "#autre méthode (à approfondir) - à faire avant le split:\n",
        "cols_to_be_scaled = X                   #liste de colonnes à scaler\n",
        "for col in cols_to_be_scaled:\n",
        "  a = np.array(df[col]).reshape(-1,1)   #il faut reshaper en 2 dimensions pour pouvoir utiliser le Standard Scaler\n",
        "  df[col] = ss.fit_transform(a)\n",
        "\n",
        "\n",
        "modelLogReg = LogisticRegression()  #creation du modèle\n",
        "modelLogReg.fit(X_train, y_train)  #entrainement du modèle\n",
        "y_pred = modelLogReg.predict(X_test)   #prédiction\n",
        "modelLogReg.score(X_test, y_test)   #évaluation du modèle\n",
        "modelLogReg.predict_proba(X_test)   #montrer les probabilités d'appartenance aux classes A et B\n",
        "y_pred = modelLogReg.predict(X_test)  #prédictions"
      ],
      "execution_count": null,
      "outputs": []
    },
    {
      "cell_type": "code",
      "metadata": {
        "id": "9tvLwHqkeI4h",
        "colab_type": "code",
        "colab": {}
      },
      "source": [
        "#évaluations du modèle\n",
        "\n",
        "modelLogReg.score(X_test, y_test)  \n",
        "print(classification_report(y_test, y_pred))\n",
        "confusion_matrix(y_test, y_pred) #matrice de confusion\n",
        "#predicted NO --- predicted YES\n",
        "#actual NO ------ actual YES\n",
        "\n",
        "#pour une matrice de confusion plus jolie et lisible, la représenter grâce à une heatmap\n",
        "\n",
        "import seaborn as sns\n",
        "sns.heatmap(conf_matrix, annot=True)\n",
        "plt.xlabel('prédictions')\n",
        "plt.ylabel('observations')\n",
        "plt.title('matrice de confusion')\n",
        "\n",
        "\n",
        "#roc_auc_score -> à quel point le modèle arrive à discrimer \n",
        "#plus résultat proche de 1, meilleure est la discrimination des classes, mieux c'est\n",
        "#roc_curve --> \n",
        "#predict_proba = % de chance d'appartenir à telle ou telle classe\n",
        "scores = logreg.predict_proba(X_test)[:,1]  # [:,1] on précise qu'on veut le résultat pour la classe 1 = ceux qui ont survécu\n",
        "#résultat pour chaque individu\n",
        "#ratio de faux positifs : fpr\n",
        "#ration de vrai positifs : tpr\n",
        "fpr, tpr, threshold = roc_curve(y_test, scores)  #paramètres à fournir\n",
        "roc_auc = roc_auc_score(y_test, scores)\n",
        "\n",
        "print(\"AUC de ma ROC Curve est de :\", roc_auc)\n",
        "#plus le roc_auc est proche de 1, plus le modèle est performant\n",
        "\n",
        "plt.plot(fpr, trp)\n",
        "plt.title('ROC Curve')\n",
        "plt.xlabel('Ratio de Faux Positifs')\n",
        "plt.ylabel('Ratio de Vrais Positifs')\n",
        "\n",
        "#lecture de la roc curve = la partie en dessous de la courbe est la AUC\n",
        "#divisée par l'ensemble\n",
        "#une roc curve parfaite formerait un angle droit à 1.O sur l'ordonnée et 0 sur l sur l'abcisse\n",
        "#aire = 1 -> pas d'erreurs"
      ],
      "execution_count": null,
      "outputs": []
    },
    {
      "cell_type": "markdown",
      "metadata": {
        "id": "8juaSPgNeqvL",
        "colab_type": "text"
      },
      "source": [
        "#7.6 Décision Tree Regressor (régression)"
      ]
    },
    {
      "cell_type": "code",
      "metadata": {
        "id": "W-X48bOZ_bCI",
        "colab_type": "code",
        "colab": {}
      },
      "source": [
        "from sklearn.tree import DecisionTreeRegressor\n",
        "from sklearn.metrics import mean_squared_error  "
      ],
      "execution_count": null,
      "outputs": []
    },
    {
      "cell_type": "code",
      "metadata": {
        "id": "mFEtXGFRe0cX",
        "colab_type": "code",
        "colab": {}
      },
      "source": [
        "dtr = DecisionTreeRegressor()     #création du modèle\n",
        "dtr.fit(X_train, y_train)         #entrainement\n",
        "preds_dtr = dtr.predict(X_test)   #prédictions\n",
        "\n",
        "#évaluation\n",
        "SE = mean_squared_error(y_test, preds_dtr)   \n",
        "RMSE = np.sqrt(MSE)  \n",
        "RMSE   #le RMSE est dans la valeur de la variable dépendante (ici des dollars)\n",
        "#le RMSE est quantifiable contrairement au score"
      ],
      "execution_count": null,
      "outputs": []
    },
    {
      "cell_type": "markdown",
      "metadata": {
        "id": "QvyY6uP7em_h",
        "colab_type": "text"
      },
      "source": [
        "#7.5 Decision Tree Classifier (classification)"
      ]
    },
    {
      "cell_type": "code",
      "metadata": {
        "id": "njneiihf_eux",
        "colab_type": "code",
        "colab": {}
      },
      "source": [
        "from sklearn.model_selection import train_test_split\n",
        "from sklearn.tree import DecisionTreeClassifier \n",
        "from sklearn.preprocessing import StandardScaler\n",
        "from sklearn.metrics import confusion_matrix\n",
        "from sklearn.metrics import accuracy_score\n",
        "from sklearn.tree import export_graphviz\n",
        "import pydotplus\n",
        "from IPython.display import display, Image"
      ],
      "execution_count": null,
      "outputs": []
    },
    {
      "cell_type": "code",
      "metadata": {
        "id": "COeknPq-fGzc",
        "colab_type": "code",
        "colab": {}
      },
      "source": [
        "X = df[['']]\n",
        "y = df['']\n",
        "\n",
        "X_train, X_test, y_train, y_test = train_test_split(X, y, random_state=1, test_size=0.3)   #division du dataset\n",
        "\n",
        "#puor éviter l'overfitting, paramètrer la valeur de max_depth\n",
        "#trouver la meilleure valeur grâce à une boucle\n",
        "max_depth_range = list(range(1, 9))\n",
        "# List to store the average RMSE for each value of max_depth:\n",
        "accuracy = []\n",
        "for depth in max_depth_range:\n",
        "    \n",
        "    modelTree = DecisionTreeClassifier(max_depth = depth, random_state = 0)\n",
        "    modelTree.fit(X_train, y_train)\n",
        "    score = modelTree.score(X_test, y_test)\n",
        "    accuracy.append(score)\n",
        "\n",
        "print(accuracy)\n",
        "\n",
        "\n",
        "\n",
        "modelTree = DecisionTreeClassifier(max_depth=2)   #création du modèle\n",
        "modelTree.fit(X_train, y_train)        #entrainement du modèle\n",
        "\n",
        "\n",
        "#evaluation\n",
        "\n",
        "from sklearn.metrics import confusion_matrix\n",
        "from sklearn.metrics import accuracy_score\n",
        "\n",
        "score_train = modelTree.score(X_train, y_train)  #score du modèle d'entrainement\n",
        "\n",
        "y_pred = modelTree.predict(X_test)  #prediction\n",
        "score_test = modelTree.score(X_test, y_test)     #score du modèle prédit (test)\n",
        "accuracy_test = accuracy_score(y_test, y_pred)      #accuracy score du test \n",
        "confusion = confusion_matrix(y_test, y_pred)    #matrice de confusion du test "
      ],
      "execution_count": null,
      "outputs": []
    },
    {
      "cell_type": "code",
      "metadata": {
        "id": "-W78tYCDfHfK",
        "colab_type": "code",
        "colab": {}
      },
      "source": [
        "# Afficher l'arbre de décision \n",
        "from sklearn.tree import export_graphviz\n",
        "from IPython.display import display, Image\n",
        "import pydotplus\n",
        "\n",
        "DT_data = export_graphviz( modelTree, feature_names=X, class_names=['', ''], filled=True, rounded=True, rotate=True)\n",
        "graph = pydotplus.graph_from_dot_data(DT_data)\n",
        "graph.write_png('tree.png')\n",
        "display(Image(filename='tree.png'))"
      ],
      "execution_count": null,
      "outputs": []
    },
    {
      "cell_type": "markdown",
      "metadata": {
        "id": "yq1NojcofMYG",
        "colab_type": "text"
      },
      "source": [
        "#7.6 K-means (clustering)"
      ]
    },
    {
      "cell_type": "code",
      "metadata": {
        "id": "vEaojeQ_fPUx",
        "colab_type": "code",
        "colab": {}
      },
      "source": [
        "\"\"\"\n",
        "- import des modules\n",
        "- créer un array avec les données sous forme numérique (X)\n",
        "- centrer et réduire les données si nécessaire\n",
        "- instancier un objet Kmeans et indiquer le nombre de cluster à calculer, et d'autres paramètres si besoin\n",
        "- fitter le X avec l'objet Kmeans\n",
        "- examiner les labels de l'objet Kmeans en s'aidant de visualisation (ex scatterplot)\n",
        "- évaluer le résultat de l'algorithme grâce à une métrique\n",
        "- améliorer le modèle si besoin\n",
        "\"\"\"\n"
      ],
      "execution_count": null,
      "outputs": []
    },
    {
      "cell_type": "code",
      "metadata": {
        "id": "d7Y3wVzuB-Tr",
        "colab_type": "code",
        "colab": {}
      },
      "source": [
        "from sklearn.cluster import KMeans\n",
        "\n"
      ],
      "execution_count": null,
      "outputs": []
    },
    {
      "cell_type": "markdown",
      "metadata": {
        "id": "u3r44qleAKFz",
        "colab_type": "text"
      },
      "source": [
        "#7.7 PCA (Analyse en composantes principales)"
      ]
    },
    {
      "cell_type": "code",
      "metadata": {
        "id": "qGHrHpSiAphs",
        "colab_type": "code",
        "colab": {}
      },
      "source": [
        "from sklearn.preprocessing import StandardScaler\n",
        "from sklearn import decomposition"
      ],
      "execution_count": null,
      "outputs": []
    },
    {
      "cell_type": "code",
      "metadata": {
        "id": "HEVSgpxoAPX-",
        "colab_type": "code",
        "colab": {}
      },
      "source": [
        "X = [['', '', '']]\n",
        "y = ['']\n",
        "\n",
        "x_std = StandardScaler().fit_transform(X)       #mise à l'échelle\n",
        "pca = decomposition.PCA(n_components=1)         #décomposition en 1 dimension\n",
        "pca_x = pca.fit_transform(x_std)                \n",
        "\n",
        "result = pd.DataFrame(pca_x, columns=['PC1'])   #visualisation des données réduites en 1 dimension sous forme de dataframe\n",
        "result['y-axis'] = 0.0                          #colonne y remplit de zéros pour pouvoir plotter à 2 dimensions\n",
        "result['label'] = Y \n",
        "\n",
        "sns.lmplot('PC1', 'y-axis', data=sklearn_result, fit_reg=False,  # x-axis, y-axis, data, no line\n",
        "           scatter_kws={\"s\": 50}, # marker size\n",
        "           hue=\"label\") # color"
      ],
      "execution_count": null,
      "outputs": []
    },
    {
      "cell_type": "markdown",
      "metadata": {
        "id": "INzxOkZIT1ah",
        "colab_type": "text"
      },
      "source": [
        "#7.8 Cross Validation"
      ]
    },
    {
      "cell_type": "code",
      "metadata": {
        "id": "c4xqHy-mWjWQ",
        "colab_type": "code",
        "colab": {}
      },
      "source": [
        "\"\"\"\n",
        "Split the entire data randomly into k folds (value of k shouldn’t be too small or too high, ideally we choose 5 to 10 depending on the data size). The higher value of K leads to less biased model (but large variance might lead to overfit), where as the lower value of K is similar to the train-test split approach we saw before.\n",
        "Then fit the model using the K — 1 (K minus 1) folds and validate the model using the remaining Kth fold. Note down the scores/errors.\n",
        "Repeat this process until every K-fold serve as the test set. Then take the average of your recorded scores. That will be the performance metric for the model.\n",
        "\n",
        "cross_val_score : returns score of each test folds\n",
        "cross_val_predict : returns the predicted score for each observation in the input dataset when it was part of the test set\n",
        "\n",
        "Techniques tosplit and train the model :\n",
        "StratifiedKfold : by default if the model is a classifier and the variable target (y) is either binary or multiclass\n",
        "K_Fold : used by default in other cases\n",
        "\"\"\""
      ],
      "execution_count": null,
      "outputs": []
    },
    {
      "cell_type": "code",
      "metadata": {
        "id": "iY67e3eVX1Gg",
        "colab_type": "code",
        "colab": {}
      },
      "source": [
        "from sklearn.model_selection import cross_validate, cross_val_score, cross_val_predict\n",
        "from sklearn import linear_model\n",
        "from sklearn.ensemble import RandomForestRegressor\n",
        "from sklearn.model_selection import train_test_split\n",
        "import numpy as np\n",
        "from sklearn.metrics import mean_squared_error,r2_score\n",
        "from sklearn.model_selection import KFold\n",
        "import pandas as pd\n",
        "from sklearn import metrics\n",
        "\n",
        "#Split the data (80:20) into train and test using the train_test_split method\n",
        "x_train,x_test,y_train,y_test = train_test_split(X,y,test_size = 0.2)\n",
        "\n",
        "rf_reg = RandomForestRegressor()      #Define the model\n",
        "rf_reg.fit(x_train,y_train)           #train the model\n",
        "y_pred = rf_reg.predict(x_test)       #predict\n",
        "\n",
        "rsqure_score = rf_reg.score(x_train,y_train)    #evaluate with R2\n",
        "print('R^2: {}'.format(rsqure_score))\n",
        "\n",
        "\n",
        "#Perform the training using KFolds cross validation method\n",
        "cv_r2_scores_rf = cross_val_score(rf_reg, X, y, cv=5, scoring='r2')\n",
        "print(cv_r2_scores_rf)\n",
        "print(\"Mean 5-Fold R Squared: {}\".format(np.mean(cv_r2_scores_rf)))\n"
      ],
      "execution_count": null,
      "outputs": []
    },
    {
      "cell_type": "code",
      "metadata": {
        "id": "-xaYX1YXZYMl",
        "colab_type": "code",
        "colab": {}
      },
      "source": [
        "#Perform the k-fold training manually on a dataframe using for loop\n",
        "kf = KFold(n_splits = 5, shuffle = True)\n",
        "rf_reg = RandomForestRegressor()\n",
        "\n",
        "#Perform the training repeatedly on each k-1 folds (x_train, y_train) and use the Kth fold (x_test, y_test) for testing. \n",
        "#Append the score from every iteration to the scores list.\n",
        "\n",
        "scores = []\n",
        "for i in range(5):\n",
        "    result = next(kf.split(df), None)\n",
        "    x_train = df.iloc[result[0]]\n",
        "    x_test = df.iloc[result[1]]\n",
        "    y_train = y.iloc[result[0]]\n",
        "    y_test = y.iloc[result[1]]\n",
        "    model = rf_reg.fit(x_train,y_train)\n",
        "    predictions = rf_reg.predict(x_test)\n",
        "    scores.append(model.score(x_test,y_test))\n",
        "print('Scores from each Iteration: ', scores)\n",
        "print('Average K-Fold Score :' , np.mean(scores))"
      ],
      "execution_count": null,
      "outputs": []
    },
    {
      "cell_type": "markdown",
      "metadata": {
        "id": "spEDtLs15lak",
        "colab_type": "text"
      },
      "source": [
        "#7.9 Automatiser le choix des hyper-paramètres : GridSearch er RandomSearch"
      ]
    },
    {
      "cell_type": "markdown",
      "metadata": {
        "id": "UxKkANDOcGfV",
        "colab_type": "text"
      },
      "source": [
        "Grid Search"
      ]
    },
    {
      "cell_type": "code",
      "metadata": {
        "id": "KN5JeS7l5rGy",
        "colab_type": "code",
        "colab": {}
      },
      "source": [
        "from sklearn.model_selection import GridSearchCV\n",
        "X = df[['','']]\n",
        "y = df['']\n",
        "\n",
        "model = DecisionTreeClassifier()   #création du modèle (modifier en fonction de l'algo choisi)\n",
        "\n",
        "grid = GridSearchCV(estimator=model, \n",
        "                    param_grid={'par1':[2, 3, 5, 10], 'par2':[1, 3, 5, 10]}, \n",
        "                    scoring='accuracy')\n",
        "\n",
        "grid.fit(X, y)\n",
        "print(grid)"
      ],
      "execution_count": null,
      "outputs": []
    },
    {
      "cell_type": "code",
      "metadata": {
        "id": "yVfEBONwcJQ3",
        "colab_type": "code",
        "colab": {}
      },
      "source": [
        "# summarize the results of the grid search\n",
        "print(f'Le meilleur score possible pour ce modèle est de {grid.best_score_}')\n",
        "print(f'Pour maximiser l\\'accuracy score, les meilleurs valeurs des hyperparamètres sont {grid.best_estimator_}')"
      ],
      "execution_count": null,
      "outputs": []
    },
    {
      "cell_type": "markdown",
      "metadata": {
        "id": "7itZBdfPcd6b",
        "colab_type": "text"
      },
      "source": [
        "Random Search"
      ]
    },
    {
      "cell_type": "code",
      "metadata": {
        "id": "K_cy7edHcdqB",
        "colab_type": "code",
        "colab": {}
      },
      "source": [
        "from sklearn.model_selection import RandomizedSearchCV\n",
        "\n",
        "X = df[['', '']]\n",
        "y = df['']\n",
        "\n",
        "model = DecisionTreeClassifier()    #création du modèle (modifier en fonction de l'algo choisi)\n",
        "\n",
        "\n",
        "rsearch = RandomizedSearchCV(estimator=model, param_distributions={'par1':[2, 3, 5, 10], 'par2':[1, 3, 5, 10]}, \n",
        "                    scoring='accuracy')\n",
        "rsearch.fit(X,y)\n",
        "print(rsearch)"
      ],
      "execution_count": null,
      "outputs": []
    },
    {
      "cell_type": "code",
      "metadata": {
        "id": "_iH5fpEfchxG",
        "colab_type": "code",
        "colab": {}
      },
      "source": [
        "# summarize the results of the random parameter search\n",
        "print(f'Le meilleur score possible pour ce modèle est de {rsearch.best_score_}')\n",
        "print(f'Pour maximiser l\\'accuracy score, les meilleurs valeurs des hyperparamètres sont {rsearch.best_estimator_}')"
      ],
      "execution_count": null,
      "outputs": []
    },
    {
      "cell_type": "markdown",
      "metadata": {
        "id": "N-BkN1jCSH6R",
        "colab_type": "text"
      },
      "source": [
        "#7.10 Recap algorithmes de classification"
      ]
    },
    {
      "cell_type": "code",
      "metadata": {
        "id": "DvJlLCYSSHDe",
        "colab_type": "code",
        "colab": {}
      },
      "source": [
        "from sklearn.model_selection import train_test_split\n",
        "from sklearn.preprocessing import StandardScaler\n",
        "from sklearn.neighbors import KNeighborsClassifier\n",
        "from sklearn.linear_model import LogisticRegression\n",
        "from sklearn.tree import DecisionTreeClassifier \n",
        "from sklearn.metrics import accuracy_score\n",
        "\n",
        "X = df[['', '']]\n",
        "y = df['']\n",
        "\n",
        "X_train, X_test, y_train, y_test = train_test_split(X, y, random_state=2, test_size=0.25)\n",
        "\n",
        "# Create and fit a scaler model\n",
        "scaler = StandardScaler().fit(X_train)\n",
        "\n",
        "# Your scaler model can now transform your data\n",
        "X_train_scaled = scaler.transform(X_train)\n",
        "X_test_scaled = scaler.transform(X_test)\n",
        "\n",
        "#Régression logistique\n",
        "\n",
        "modelLogReg = LogisticRegression()  #creation du modèle\n",
        "modelLogReg.fit(X_train_scaled, y_train)  #entrainement du modèle\n",
        "y_pred_logreg = modelLogReg.predict(X_test_scaled)   #prédiction\n",
        "score_logreg = accuracy_score(y_test, y_pred_logreg)   #évaluation \n",
        "\n",
        "\n",
        "#KNN\n",
        "\n",
        "#trouver le nb de voisins le plus adéquat entre 2 et 15: \n",
        "for loop in range (2, 15, 1):\n",
        "  KNNclass_model = KNeighborsClassifier(n_neighbors=loop)\n",
        "  KNNclass_model.fit(X_train_scaled, y_train)\n",
        "  y_pred = KNNclass_model.predict(X_test_scaled)\n",
        "\n",
        "  accuracy_knn = accuracy_score(y_test, y_pred)\n",
        "  print(f'n_neighbors {loop} a un score de : {accuracy_knn}')\n",
        "\n",
        "\n",
        "KNNclass_model = KNeighborsClassifier(n_neighbors=13)  #creation du modèle\n",
        "KNNclass_model.fit(X_train_scaled, y_train)                   #entrainement du modèle\n",
        "y_pred_knn = KNNclass_model.predict(X_test_scaled)            #prédiction\n",
        "\n",
        "score_knn = accuracy_score(y_test, y_pred_knn)   #évaluation \n",
        "\n",
        "\n",
        "#Decision Tree\n",
        "\n",
        "#pour éviter l'overfitting, paramétrer la valeur de max_depth, grâce à une boucle\n",
        "max_depth_range = list(range(1, 15))\n",
        "for depth in max_depth_range:\n",
        "    \n",
        "    modelTree = DecisionTreeClassifier(max_depth = depth, random_state = 0)\n",
        "    modelTree.fit(X_train_scaled, y_train)\n",
        "    score = modelTree.score(X_test_scaled, y_test)\n",
        "    print(f'n_neighbors {depth} a un score de : {score}')\n",
        "\n",
        "modelTree = DecisionTreeClassifier(max_depth=7)   #création du modèle\n",
        "modelTree.fit(X_train_scaled, y_train)        #entrainement du modèle\n",
        "y_pred_decTree = modelTree.predict(X_test_scaled)  #prediction\n",
        "\n",
        "score_tree = accuracy_score(y_test, y_pred_decTree)   #evaluation\n",
        "\n",
        "\n",
        "print(f\"le score pour la régression logistique est de\",{score_logreg})\n",
        "print(f\"le score pour le knn est de\",{score_knn})\n",
        "print(f\"le score pour le decision tree est de\",{score_tree})"
      ],
      "execution_count": null,
      "outputs": []
    },
    {
      "cell_type": "markdown",
      "metadata": {
        "id": "yAZiIf29OnAv",
        "colab_type": "text"
      },
      "source": [
        "# 8. Fonctions mathématiques"
      ]
    },
    {
      "cell_type": "code",
      "metadata": {
        "id": "fgtW_z3cOpiB",
        "colab_type": "code",
        "colab": {
          "base_uri": "https://localhost:8080/",
          "height": 51
        },
        "outputId": "143e8b59-d629-44cb-b3e8-84baf44b6766"
      },
      "source": [
        "#fonction eval()\n",
        "#eval(source, globals, locals)\n",
        "#Evaluate the given source in the context of globals and locals.\n",
        "#The source may be a string representing a Python expression or a code object as returned by compile(). \n",
        "#The globals must be a dictionary and locals can be any mapping, defaulting to the current globals and locals. \n",
        "#If only globals is given, locals defaults to it.\n",
        "\n",
        "test = eval('67+90/56')\n",
        "print(test)\n",
        "\n",
        "test2 = eval('56==98')\n",
        "print(test2)"
      ],
      "execution_count": null,
      "outputs": [
        {
          "output_type": "stream",
          "text": [
            "68.60714285714286\n",
            "False\n"
          ],
          "name": "stdout"
        }
      ]
    },
    {
      "cell_type": "markdown",
      "metadata": {
        "id": "Y55s9W2ldIqs",
        "colab_type": "text"
      },
      "source": [
        "#9. Regex (expressions rationnelles ou expressions régulières)"
      ]
    },
    {
      "cell_type": "markdown",
      "metadata": {
        "id": "tV62sPLQdU0i",
        "colab_type": "text"
      },
      "source": [
        "Chaine de caractères décrivant un motif, dnas le but d'identifier les occurences d'un terme dans un texte"
      ]
    },
    {
      "cell_type": "markdown",
      "metadata": {
        "id": "z9a3kY7PhDem",
        "colab_type": "text"
      },
      "source": [
        "1. Rechercher une expression : /expression/ \n",
        "ou #expression#\n",
        "\n",
        "2. Flags ou ancres :\n",
        "  *  /expression/g (global) = rechercher toutes les occurences d'un motif dans le texte\n",
        "  *  /expression/gi (global, insensitive) = rendre insensible à la casse\n",
        "  *  /expression\\b/g = uniquement les mots qui se terminent par l'expression\n",
        "  * /\\bexpression\\b/g = uniquement les mots qui commencent ou se terminent par l'expression\n",
        "\n",
        "3. Caractères spéciaux :\n",
        "  *  /^expression/ = limite la recherche au départ du texte\n",
        "  *  /expression$/ = limite la recherche à la fin du texte\n",
        "\n",
        "4. Conditions :\n",
        "  *   /expression1|expression2|expression3/g = permet de trouver un résultat parmi plusieurs termes\n",
        "\n",
        "5. Ensembles de caractères : permettent de définir les valeurs possibles d'un caractère\n",
        "  *   INCLUSION : m[oai]ts = Sélection des parties du texte où il y a un m, suivi d'un o ou d'un a ou d'un i, suivi d'un t, suivi d'un s.\n",
        "  *   EXCLUSION : m[^oai]ts = Sélection des parties du texte où il y a un m, suivi d'une lettre qui n'est ni o, ni a, ni i, suivi d'un t, suivi d'un s\n",
        "  *   INTERVALLE : \n",
        "    *   [a-z] = lettres minuscules de a à z\n",
        "    *   [A-Z] = lettres majuscules de A à Z\n",
        "    *   [0-9] = chiffres de 0 à 9\n",
        "    *   [a-z0-9] = Lettres minuscules de a à z ou chiffres de 0 à 9\n",
        "\n",
        "  * ENSEMBLES PRECONÇUS : permet de représenter plusieurs intervalles\n",
        "    *   . = n'importe quel caractère\n",
        "    *   \\w = [a-zA-Z0-9_]\n",
        "    *   \\d = [0-9]\n",
        "    *   \\n = retour à la ligne\n",
        "    *   \\t = tabulation\n",
        "    *   \\S = tout sauf l'espace\n",
        "    *   \\s = tous les espaces blancs\n",
        "\n",
        "6.   Quantificateurs : permettent de définir les mêmes valeurs possibles pour plusieurs caractères en indiquant le nombre de répétition du caractère ou de la suite de caractère qui les précèdent\n",
        "  * {min, max} : le nombre de répétition varie entre la valeur minimale et la valeur maximale incluses\n",
        "  * {min,} : le nombre de répétition varie entre la valeur minimale incluse et l'infini\n",
        "  * {,max} : le nombre de répétition varie entre 0 et la valeur maximale incluse\n",
        "  * {nombre} : le nombre de répétition correspond au nombre marqué entre les accolades\n",
        "\n",
        "Exemples : \n",
        "  - [a-zA-Z]{6} permet de sélectionner les parties du texte où il y a 6 lettres consécutives\n",
        "  - [0-9]{2,4} permet de sélectionner les parties du texte où il y a entre 2 et 4 chiffres consécutifs\n",
        "\n",
        "* QUANTIFIEURS PRECONÇUS :\n",
        "  * \\*  = 0 ou plusieurs répétitions\n",
        "  * \\+  = 1 ou plusieurs répétitions\n",
        "  * \\?  = 0 ou 1 répétition (rend le caractère facultatif)\n",
        "\n",
        "\n",
        "7. L'échappement : utiliser un caractère associé à un ensemble préconçu en tant que caractère --> \\\n",
        "  * liste des caractères nécessitant un échapement : ^ $ \\ | { } [ ] ( ) ? # ! + * .\n",
        "\n",
        "8. Parenthèses : permettent de créer des suites (ou groupes) de caractères et de les stocker en mémoire\n",
        "\n",
        "\n",
        "\n",
        "\n",
        "\n",
        "\n",
        "\n",
        "\n"
      ]
    },
    {
      "cell_type": "code",
      "metadata": {
        "id": "GzYg9PRv92C2",
        "colab_type": "code",
        "colab": {}
      },
      "source": [
        "#rechercher un url:\n",
        "/https?://[a-zA-Z0-9\\.-]+\\.[a-zA-Z]{2,4}(/\\S*)?/\n"
      ],
      "execution_count": null,
      "outputs": []
    },
    {
      "cell_type": "markdown",
      "metadata": {
        "id": "YU4QSpsDPOOv",
        "colab_type": "text"
      },
      "source": [
        "#Autres"
      ]
    },
    {
      "cell_type": "code",
      "metadata": {
        "id": "Bph0vIl8PQmu",
        "colab_type": "code",
        "colab": {}
      },
      "source": [
        "#fonction lambda\n",
        "#fonction anonyme qui prend un nombre quelconque d'arguments et retourne la valeur d'une expression unique\n",
        "#ne peut pas contenir de commande ni plus d'une expression\n",
        "\n",
        "s = lambda x,y : x + y\n",
        "\n",
        "#à gauche de ':' -> paramètres\n",
        "#à droite de ':' -> corps de la fonction\n",
        "\n",
        "s(6,7)\n",
        "# appel de la fonction\n",
        "\n",
        "\n",
        "#lambda au lieu de def;\n",
        "#pas de paranthèses;\n",
        "#pas de mot clé return."
      ],
      "execution_count": null,
      "outputs": []
    }
  ]
}